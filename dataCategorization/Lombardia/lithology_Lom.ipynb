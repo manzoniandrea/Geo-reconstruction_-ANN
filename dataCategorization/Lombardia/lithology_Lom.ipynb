{
  "cells": [
    {
      "cell_type": "markdown",
      "metadata": {
        "id": "view-in-github",
        "colab_type": "text"
      },
      "source": [
        "<a href=\"https://colab.research.google.com/github/manzoniandrea/Geo-reconstruction_-ANN/blob/main/dataCategorization/Lombardia/lithology_Lom.ipynb\" target=\"_parent\"><img src=\"https://colab.research.google.com/assets/colab-badge.svg\" alt=\"Open In Colab\"/></a>"
      ]
    },
    {
      "cell_type": "markdown",
      "metadata": {
        "id": "LPqOfUOY1rtk"
      },
      "source": [
        "file richiesti:\n",
        "CSV per tutte le province della lombardia\n",
        "DEM_clip.tif"
      ]
    },
    {
      "cell_type": "markdown",
      "source": [
        "#Install Libraries"
      ],
      "metadata": {
        "id": "jlmOc35s3S37"
      }
    },
    {
      "cell_type": "code",
      "execution_count": null,
      "metadata": {
        "colab": {
          "base_uri": "https://localhost:8080/"
        },
        "id": "LiFzgDry3Kib",
        "outputId": "fec89b55-f173-4ae2-e1f1-655a26120308"
      },
      "outputs": [
        {
          "output_type": "stream",
          "name": "stdout",
          "text": [
            "Looking in indexes: https://pypi.org/simple, https://us-python.pkg.dev/colab-wheels/public/simple/\n",
            "Collecting pyvista\n",
            "  Downloading pyvista-0.34.1-py3-none-any.whl (1.4 MB)\n",
            "\u001b[K     |████████████████████████████████| 1.4 MB 21.4 MB/s \n",
            "\u001b[?25hCollecting scooby>=0.5.1\n",
            "  Downloading scooby-0.5.12-py3-none-any.whl (14 kB)\n",
            "Collecting vtk\n",
            "  Downloading vtk-9.1.0-cp37-cp37m-manylinux_2_17_x86_64.manylinux2014_x86_64.whl (88.3 MB)\n",
            "\u001b[K     |████████████████████████████████| 88.3 MB 140 kB/s \n",
            "\u001b[?25hRequirement already satisfied: imageio in /usr/local/lib/python3.7/dist-packages (from pyvista) (2.4.1)\n",
            "Requirement already satisfied: numpy in /usr/local/lib/python3.7/dist-packages (from pyvista) (1.21.6)\n",
            "Requirement already satisfied: appdirs in /usr/local/lib/python3.7/dist-packages (from pyvista) (1.4.4)\n",
            "Requirement already satisfied: pillow in /usr/local/lib/python3.7/dist-packages (from pyvista) (7.1.2)\n",
            "Requirement already satisfied: matplotlib>=2.0.0 in /usr/local/lib/python3.7/dist-packages (from vtk->pyvista) (3.2.2)\n",
            "Collecting wslink>=1.0.4\n",
            "  Downloading wslink-1.6.4-py3-none-any.whl (22 kB)\n",
            "Requirement already satisfied: cycler>=0.10 in /usr/local/lib/python3.7/dist-packages (from matplotlib>=2.0.0->vtk->pyvista) (0.11.0)\n",
            "Requirement already satisfied: pyparsing!=2.0.4,!=2.1.2,!=2.1.6,>=2.0.1 in /usr/local/lib/python3.7/dist-packages (from matplotlib>=2.0.0->vtk->pyvista) (3.0.9)\n",
            "Requirement already satisfied: kiwisolver>=1.0.1 in /usr/local/lib/python3.7/dist-packages (from matplotlib>=2.0.0->vtk->pyvista) (1.4.2)\n",
            "Requirement already satisfied: python-dateutil>=2.1 in /usr/local/lib/python3.7/dist-packages (from matplotlib>=2.0.0->vtk->pyvista) (2.8.2)\n",
            "Requirement already satisfied: typing-extensions in /usr/local/lib/python3.7/dist-packages (from kiwisolver>=1.0.1->matplotlib>=2.0.0->vtk->pyvista) (4.2.0)\n",
            "Requirement already satisfied: six>=1.5 in /usr/local/lib/python3.7/dist-packages (from python-dateutil>=2.1->matplotlib>=2.0.0->vtk->pyvista) (1.15.0)\n",
            "Collecting aiohttp\n",
            "  Downloading aiohttp-3.8.1-cp37-cp37m-manylinux_2_5_x86_64.manylinux1_x86_64.manylinux_2_12_x86_64.manylinux2010_x86_64.whl (1.1 MB)\n",
            "\u001b[K     |████████████████████████████████| 1.1 MB 42.9 MB/s \n",
            "\u001b[?25hCollecting async-timeout<5.0,>=4.0.0a3\n",
            "  Downloading async_timeout-4.0.2-py3-none-any.whl (5.8 kB)\n",
            "Collecting frozenlist>=1.1.1\n",
            "  Downloading frozenlist-1.3.0-cp37-cp37m-manylinux_2_5_x86_64.manylinux1_x86_64.manylinux_2_17_x86_64.manylinux2014_x86_64.whl (144 kB)\n",
            "\u001b[K     |████████████████████████████████| 144 kB 42.6 MB/s \n",
            "\u001b[?25hRequirement already satisfied: attrs>=17.3.0 in /usr/local/lib/python3.7/dist-packages (from aiohttp->wslink>=1.0.4->vtk->pyvista) (21.4.0)\n",
            "Collecting asynctest==0.13.0\n",
            "  Downloading asynctest-0.13.0-py3-none-any.whl (26 kB)\n",
            "Collecting multidict<7.0,>=4.5\n",
            "  Downloading multidict-6.0.2-cp37-cp37m-manylinux_2_17_x86_64.manylinux2014_x86_64.whl (94 kB)\n",
            "\u001b[K     |████████████████████████████████| 94 kB 2.5 MB/s \n",
            "\u001b[?25hCollecting aiosignal>=1.1.2\n",
            "  Downloading aiosignal-1.2.0-py3-none-any.whl (8.2 kB)\n",
            "Requirement already satisfied: charset-normalizer<3.0,>=2.0 in /usr/local/lib/python3.7/dist-packages (from aiohttp->wslink>=1.0.4->vtk->pyvista) (2.0.12)\n",
            "Collecting yarl<2.0,>=1.0\n",
            "  Downloading yarl-1.7.2-cp37-cp37m-manylinux_2_5_x86_64.manylinux1_x86_64.manylinux_2_12_x86_64.manylinux2010_x86_64.whl (271 kB)\n",
            "\u001b[K     |████████████████████████████████| 271 kB 72.8 MB/s \n",
            "\u001b[?25hRequirement already satisfied: idna>=2.0 in /usr/local/lib/python3.7/dist-packages (from yarl<2.0,>=1.0->aiohttp->wslink>=1.0.4->vtk->pyvista) (2.10)\n",
            "Installing collected packages: multidict, frozenlist, yarl, asynctest, async-timeout, aiosignal, aiohttp, wslink, vtk, scooby, pyvista\n",
            "Successfully installed aiohttp-3.8.1 aiosignal-1.2.0 async-timeout-4.0.2 asynctest-0.13.0 frozenlist-1.3.0 multidict-6.0.2 pyvista-0.34.1 scooby-0.5.12 vtk-9.1.0 wslink-1.6.4 yarl-1.7.2\n"
          ]
        }
      ],
      "source": [
        "pip install pyvista"
      ]
    },
    {
      "cell_type": "code",
      "execution_count": null,
      "metadata": {
        "colab": {
          "base_uri": "https://localhost:8080/"
        },
        "id": "_-8lPBrGQ-ti",
        "outputId": "023a5486-bb2e-4a07-9fe9-59f4e496a571"
      },
      "outputs": [
        {
          "output_type": "stream",
          "name": "stdout",
          "text": [
            "Looking in indexes: https://pypi.org/simple, https://us-python.pkg.dev/colab-wheels/public/simple/\n",
            "Collecting pyproj\n",
            "  Downloading pyproj-3.2.1-cp37-cp37m-manylinux2010_x86_64.whl (6.3 MB)\n",
            "\u001b[K     |████████████████████████████████| 6.3 MB 24.0 MB/s \n",
            "\u001b[?25hRequirement already satisfied: certifi in /usr/local/lib/python3.7/dist-packages (from pyproj) (2022.5.18.1)\n",
            "Installing collected packages: pyproj\n",
            "Successfully installed pyproj-3.2.1\n"
          ]
        }
      ],
      "source": [
        "pip install pyproj"
      ]
    },
    {
      "cell_type": "code",
      "execution_count": null,
      "metadata": {
        "colab": {
          "base_uri": "https://localhost:8080/"
        },
        "id": "SWW3QX9LvOwC",
        "outputId": "478f608d-b7af-4b6e-f9ab-df8f6b2aedeb"
      },
      "outputs": [
        {
          "output_type": "stream",
          "name": "stdout",
          "text": [
            "Looking in indexes: https://pypi.org/simple, https://us-python.pkg.dev/colab-wheels/public/simple/\n",
            "Collecting rasterio\n",
            "  Downloading rasterio-1.2.10-cp37-cp37m-manylinux1_x86_64.whl (19.3 MB)\n",
            "\u001b[K     |████████████████████████████████| 19.3 MB 359 kB/s \n",
            "\u001b[?25hCollecting affine\n",
            "  Downloading affine-2.3.1-py2.py3-none-any.whl (16 kB)\n",
            "Requirement already satisfied: setuptools in /usr/local/lib/python3.7/dist-packages (from rasterio) (57.4.0)\n",
            "Requirement already satisfied: attrs in /usr/local/lib/python3.7/dist-packages (from rasterio) (21.4.0)\n",
            "Requirement already satisfied: cligj>=0.5 in /usr/local/lib/python3.7/dist-packages (from rasterio) (0.7.2)\n",
            "Requirement already satisfied: click-plugins in /usr/local/lib/python3.7/dist-packages (from rasterio) (1.1.1)\n",
            "Requirement already satisfied: certifi in /usr/local/lib/python3.7/dist-packages (from rasterio) (2022.5.18.1)\n",
            "Requirement already satisfied: click>=4.0 in /usr/local/lib/python3.7/dist-packages (from rasterio) (7.1.2)\n",
            "Collecting snuggs>=1.4.1\n",
            "  Downloading snuggs-1.4.7-py3-none-any.whl (5.4 kB)\n",
            "Requirement already satisfied: numpy in /usr/local/lib/python3.7/dist-packages (from rasterio) (1.21.6)\n",
            "Requirement already satisfied: pyparsing>=2.1.6 in /usr/local/lib/python3.7/dist-packages (from snuggs>=1.4.1->rasterio) (3.0.9)\n",
            "Installing collected packages: snuggs, affine, rasterio\n",
            "Successfully installed affine-2.3.1 rasterio-1.2.10 snuggs-1.4.7\n"
          ]
        }
      ],
      "source": [
        "pip install rasterio"
      ]
    },
    {
      "cell_type": "code",
      "execution_count": null,
      "metadata": {
        "colab": {
          "base_uri": "https://localhost:8080/"
        },
        "id": "4hu6hdI2xCvz",
        "outputId": "f8451a02-f4cf-4844-e9c3-e4d87244e58e"
      },
      "outputs": [
        {
          "output_type": "stream",
          "name": "stdout",
          "text": [
            "Looking in indexes: https://pypi.org/simple, https://us-python.pkg.dev/colab-wheels/public/simple/\n",
            "Collecting geopandas\n",
            "  Downloading geopandas-0.10.2-py2.py3-none-any.whl (1.0 MB)\n",
            "\u001b[K     |████████████████████████████████| 1.0 MB 20.5 MB/s \n",
            "\u001b[?25hRequirement already satisfied: pyproj>=2.2.0 in /usr/local/lib/python3.7/dist-packages (from geopandas) (3.2.1)\n",
            "Collecting fiona>=1.8\n",
            "  Downloading Fiona-1.8.21-cp37-cp37m-manylinux2014_x86_64.whl (16.7 MB)\n",
            "\u001b[K     |████████████████████████████████| 16.7 MB 338 kB/s \n",
            "\u001b[?25hRequirement already satisfied: shapely>=1.6 in /usr/local/lib/python3.7/dist-packages (from geopandas) (1.8.2)\n",
            "Requirement already satisfied: pandas>=0.25.0 in /usr/local/lib/python3.7/dist-packages (from geopandas) (1.3.5)\n",
            "Requirement already satisfied: certifi in /usr/local/lib/python3.7/dist-packages (from fiona>=1.8->geopandas) (2022.5.18.1)\n",
            "Collecting click-plugins>=1.0\n",
            "  Downloading click_plugins-1.1.1-py2.py3-none-any.whl (7.5 kB)\n",
            "Collecting munch\n",
            "  Downloading munch-2.5.0-py2.py3-none-any.whl (10 kB)\n",
            "Requirement already satisfied: click>=4.0 in /usr/local/lib/python3.7/dist-packages (from fiona>=1.8->geopandas) (7.1.2)\n",
            "Requirement already satisfied: six>=1.7 in /usr/local/lib/python3.7/dist-packages (from fiona>=1.8->geopandas) (1.15.0)\n",
            "Collecting cligj>=0.5\n",
            "  Downloading cligj-0.7.2-py3-none-any.whl (7.1 kB)\n",
            "Requirement already satisfied: setuptools in /usr/local/lib/python3.7/dist-packages (from fiona>=1.8->geopandas) (57.4.0)\n",
            "Requirement already satisfied: attrs>=17 in /usr/local/lib/python3.7/dist-packages (from fiona>=1.8->geopandas) (21.4.0)\n",
            "Requirement already satisfied: python-dateutil>=2.7.3 in /usr/local/lib/python3.7/dist-packages (from pandas>=0.25.0->geopandas) (2.8.2)\n",
            "Requirement already satisfied: pytz>=2017.3 in /usr/local/lib/python3.7/dist-packages (from pandas>=0.25.0->geopandas) (2022.1)\n",
            "Requirement already satisfied: numpy>=1.17.3 in /usr/local/lib/python3.7/dist-packages (from pandas>=0.25.0->geopandas) (1.21.6)\n",
            "Installing collected packages: munch, cligj, click-plugins, fiona, geopandas\n",
            "Successfully installed click-plugins-1.1.1 cligj-0.7.2 fiona-1.8.21 geopandas-0.10.2 munch-2.5.0\n"
          ]
        }
      ],
      "source": [
        "pip install geopandas"
      ]
    },
    {
      "cell_type": "markdown",
      "source": [
        "#Import libraries"
      ],
      "metadata": {
        "id": "JYblo4tP3Wxb"
      }
    },
    {
      "cell_type": "code",
      "execution_count": null,
      "metadata": {
        "id": "qcccISoD2sIk"
      },
      "outputs": [],
      "source": [
        "import pandas as pd\n",
        "import pyvista as pv\n",
        "import numpy as np\n",
        "import vtk"
      ]
    },
    {
      "cell_type": "markdown",
      "source": [
        "#Import Data\n",
        "data source: https://www.geoportale.regione.lombardia.it/it/metadati?p_p_id=detailSheetMetadata_WAR_gptmetadataportlet&p_p_lifecycle=0&p_p_state=normal&p_p_mode=view&_detailSheetMetadata_WAR_gptmetadataportlet_uuid=%7BDAF98B21-3257-4D23-9D53-5AECC966D872%7D"
      ],
      "metadata": {
        "id": "Za578Cpy3be4"
      }
    },
    {
      "cell_type": "code",
      "execution_count": null,
      "metadata": {
        "id": "lwzpLSZr3Xhz"
      },
      "outputs": [],
      "source": [
        "wellVarese = pd.read_excel('bdgs_012_Varese.xlsx',usecols = 'A,C,E,O,P,V,AM,AN')\n",
        "wellSondrio = pd.read_excel('bdgs_014_Sondrio.xlsx',usecols = 'A,C,E,O,P,V,AM,AN')\n",
        "wellPavia = pd.read_excel('bdgs_018_Pavia.xlsx',usecols = 'A,C,E,O,P,V,AM,AN')\n",
        "wellMonza_e_della_Brianza = pd.read_excel('bdgs_108_Monza_e_della_Brianza.xlsx',usecols = 'A,C,E,O,P,V,AM,AN')\n",
        "wellMilano = pd.read_excel('bdgs_015_Milano.xlsx',usecols = 'A,C,E,O,P,V,AM,AN')\n",
        "wellMantova = pd.read_excel('bdgs_020_Mantova.xlsx',usecols = 'A,C,E,O,P,V,AM,AN')\n",
        "wellLodi = pd.read_excel('bdgs_098_Lodi.xlsx',usecols ='A,C,E,O,P,V,AM,AN')\n",
        "wellLecco = pd.read_excel('bdgs_097_Lecco.xlsx',usecols = 'A,C,E,O,P,V,AM,AN')\n",
        "wellCremona = pd.read_excel('bdgs_019_Cremona.xlsx',usecols = 'A,C,E,O,P,V,AM,AN')\n",
        "wellComo = pd.read_excel('bdgs_013_Como.xlsx',usecols = 'A,C,E,O,P,V,AM,AN')\n",
        "wellBrescia = pd.read_excel('bdgs_017_Brescia.xlsx',usecols = 'A,C,E,O,P,V,AM,AN')\n",
        "wellBergamo = pd.read_excel('bdgs_016_Bergamo.xlsx',usecols = 'A,C,E,O,P,V,AM,AN')\n",
        "\n",
        "frames = [wellVarese, wellSondrio, wellPavia, wellMonza_e_della_Brianza, wellMilano, wellMantova, wellLodi, wellLecco, wellCremona, wellComo, wellBrescia, wellBergamo]\n",
        "\n",
        "wellLoc = pd.concat(frames)\n"
      ]
    },
    {
      "cell_type": "markdown",
      "source": [
        "#Data preprocess"
      ],
      "metadata": {
        "id": "WOkI74Pn3tw0"
      }
    },
    {
      "cell_type": "code",
      "execution_count": null,
      "metadata": {
        "id": "8aW2pGP4QbbU"
      },
      "outputs": [],
      "source": [
        "from pyproj import Transformer\n",
        "\n",
        "transformer = Transformer.from_crs('epsg:3003','esri:54012',always_xy=True)\n",
        "points = list(zip(wellLoc.Coord_X_GB,wellLoc.Coord_Y_GB))\n",
        "coordsConv = np.array(list(transformer.itransform(points)))\n",
        "wellLoc['Easting'] = coordsConv[:,0]\n",
        "wellLoc['Northing'] = coordsConv[:,1]\n",
        "wellLoc = wellLoc.sort_values(by=['ide', 'nr_livello'],ignore_index=1)"
      ]
    },
    {
      "cell_type": "markdown",
      "source": [
        "the digital elevatio model used to evaluate the wellhead elevation (DEM_clip.tif) is derived form: https://land.copernicus.eu/imagery-in-situ/eu-dem/eu-dem-v1.1:"
      ],
      "metadata": {
        "id": "axVWis1q30cD"
      }
    },
    {
      "cell_type": "code",
      "execution_count": null,
      "metadata": {
        "id": "E2IfyVhnrQuT"
      },
      "outputs": [],
      "source": [
        "import rasterio\n",
        "import geopandas as gpd\n",
        "\n",
        "src = rasterio.open('DEM_clip.tif')\n",
        "coords = [(x,y) for x, y in zip( wellLoc.Easting, wellLoc.Northing)]\n",
        "\n",
        "wellLoc.index = range(len(wellLoc))\n",
        "wellLoc['quota'] = [x[0] for x in src.sample(coords)]"
      ]
    },
    {
      "cell_type": "code",
      "execution_count": null,
      "metadata": {
        "id": "oG4pzYin4m-S"
      },
      "outputs": [],
      "source": [
        "offsetList = []\n",
        "linSec = []\n",
        "linVerts = []\n",
        "\n",
        "i = 0\n",
        "\n",
        "botLito = np.zeros(wellLoc.spessore_livello.size)\n",
        "topLito = np.zeros(wellLoc.spessore_livello.size)\n",
        "\n",
        "for layer in range(0,wellLoc.spessore_livello.size):\n",
        "  x,y,z = wellLoc.loc[layer][['Easting','Northing','quota']]\n",
        "  if layer == 0:\n",
        "    topLito[0] = wellLoc.quota[0]\n",
        "    botLito[0] = topLito[0] - wellLoc.spessore_livello[0]/100\n",
        "  elif wellLoc.ide[layer] == wellLoc.ide[layer-1]:\n",
        "    topLito[layer] =  botLito[layer-1]\n",
        "    botLito[layer] = topLito[layer] - wellLoc.spessore_livello[layer]/100\n",
        "  else:\n",
        "    topLito[layer] = wellLoc.quota[layer]\n",
        "    botLito[layer] = topLito[layer] - wellLoc.spessore_livello[layer]/100\n",
        "  cellVerts = [[x,y,topLito[layer]],[x,y,botLito[layer]]]\n",
        "  offsetList.append(i*3)\n",
        "  linSec = linSec + [2,2*i,2*i+1]\n",
        "  linVerts = linVerts + cellVerts\n",
        "  i+=1\n",
        "\n",
        "offsetArray = np.array(offsetList)\n",
        "linArray = np.array(linSec)\n",
        "cellType = np.ones([i])*3\n",
        "vertArray = np.array(linVerts)\n",
        "\n",
        "wellLoc['top_Layer'] = topLito\n",
        "wellLoc['bttom_Layer'] =  botLito\n"
      ]
    },
    {
      "cell_type": "code",
      "execution_count": null,
      "metadata": {
        "id": "3HSHcvIDpsBu"
      },
      "outputs": [],
      "source": [
        "litoDict =  {}\n",
        "\n",
        "i=0\n",
        "for lito in wellLoc.l1_descr.unique():\n",
        "  litoDict[lito] = wellLoc.l1.unique()[i]\n",
        "  i += 1\n",
        "\n"
      ]
    },
    {
      "cell_type": "markdown",
      "source": [
        "#data chategrories reduction:\n",
        "![image.png](data:image/png;base64,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)"
      ],
      "metadata": {
        "id": "PRPs39pj4KjS"
      }
    },
    {
      "cell_type": "code",
      "execution_count": null,
      "metadata": {
        "id": "Ba0GK62-4euZ"
      },
      "outputs": [],
      "source": [
        "#reduce the number of cathegories\n",
        "\n",
        "cate = np.array(wellLoc.l1,dtype=int )\n",
        "for j in range(len(cate)):\n",
        "  if (cate[j]==900 or cate[j]==100 or cate[j]==306 or \n",
        "      cate[j]==201 or cate[j]==202 or cate[j]==300 or\n",
        "      cate[j]==400 or cate[j]==602 or cate[j]==700 or cate[j]==200):\n",
        "    a=1\n",
        "  elif cate[j]==204:\n",
        "    cate[j]=200\n",
        "  elif cate[j]==309:\n",
        "    cate[j]=306\n",
        "  elif cate[j]==307:\n",
        "    cate[j]=303\n",
        "  elif wellLoc.l1[j]==1000:\n",
        "    cate[j]=900\n",
        "  elif cate[j]==304:\n",
        "    cate[j]=300\n",
        "  elif cate[j]==308:\n",
        "    cate[j]=303\n",
        "  elif cate[j]==305:\n",
        "    cate[j]=701\n",
        "  elif cate[j]==301:\n",
        "    cate[j]=310\n",
        "  elif cate[j]==705:\n",
        "    cate[j]=400\n",
        "  elif cate[j]==9999:\n",
        "    cate[j]=900\n",
        "  elif cate[j]==601:\n",
        "    cate[j]=700\n",
        "  elif cate[j]==203:\n",
        "    cate[j]=201\n",
        "  elif cate[j]==502:\n",
        "    cate[j]=900\n",
        "  elif cate[j]==311:\n",
        "    cate[j]=900\n",
        "  elif cate[j]==706:\n",
        "    cate[j]=700\n",
        "  elif cate[j]==705:\n",
        "    cate[j]=704\n",
        "  elif cate[j]==702:\n",
        "    cate[j]=701\n",
        "  elif cate[j]==1003:\n",
        "    cate[j]=602\n",
        "  elif cate[j]==501:\n",
        "    cate[j]=602\n",
        "  elif cate[j]==800:\n",
        "    cate[j]=602\n",
        "  elif cate[j]==1002:\n",
        "    cate[j]=602\n",
        "  elif cate[j]==603:\n",
        "    cate[j]=602\n",
        "  elif cate[j]==703:\n",
        "    cate[j]=700\n",
        "  elif cate[j]==704:\n",
        "    cate[j]=700\n",
        "  elif cate[j]==701:\n",
        "    cate[j]=700\n",
        "  elif cate[j]==303:\n",
        "    cate[j]=300\n",
        "  elif cate[j]==302:\n",
        "    cate[j]=300\n",
        "  elif cate[j]==1001:\n",
        "    cate[j]=900\n",
        "  elif cate[j]==500:\n",
        "    cate[j]=602\n",
        "  elif cate[j]==0:\n",
        "    cate[j]=900"
      ]
    },
    {
      "cell_type": "code",
      "execution_count": null,
      "metadata": {
        "id": "qpD2kzXc4hsH"
      },
      "outputs": [],
      "source": [
        "#reduce the number of cathegories\n",
        "wellLoc.l1 = cate"
      ]
    },
    {
      "cell_type": "markdown",
      "source": [
        "#Save and export data"
      ],
      "metadata": {
        "id": "-ArnPmy94Yq7"
      }
    },
    {
      "cell_type": "code",
      "execution_count": null,
      "metadata": {
        "colab": {
          "base_uri": "https://localhost:8080/"
        },
        "id": "cf4ksxKNCuq7",
        "outputId": "f86c0fde-d02c-4ae1-c1d0-5e4ac0201cea"
      },
      "outputs": [
        {
          "output_type": "stream",
          "name": "stderr",
          "text": [
            "/usr/local/lib/python3.7/dist-packages/ipykernel_launcher.py:1: UserWarning: VTK 9 no longer accepts an offset array\n",
            "  \"\"\"Entry point for launching an IPython kernel.\n",
            "/usr/local/lib/python3.7/dist-packages/pyvista/core/dataset.py:1557: PyvistaDeprecationWarning: Use of `cell_arrays` is deprecated. Use `cell_data` instead.\n",
            "  PyvistaDeprecationWarning,\n"
          ]
        }
      ],
      "source": [
        "grid = pv.UnstructuredGrid(offsetArray, linArray, cellType, vertArray)\n",
        "grid.cell_arrays[\"values\"] = wellLoc.l1.values\n",
        "grid.save('wellLito.vtu',binary=False)"
      ]
    },
    {
      "cell_type": "code",
      "execution_count": null,
      "metadata": {
        "id": "3LKzkEXhcLPq"
      },
      "outputs": [],
      "source": [
        "wellLoc.to_csv('wellLito.csv')"
      ]
    },
    {
      "cell_type": "code",
      "execution_count": null,
      "metadata": {
        "id": "EGTRGS-68t4V",
        "colab": {
          "base_uri": "https://localhost:8080/",
          "height": 34
        },
        "outputId": "39bfa0ff-ce2f-4fd3-8aa4-5285afa9ca03"
      },
      "outputs": [
        {
          "output_type": "display_data",
          "data": {
            "text/plain": [
              "<IPython.core.display.Javascript object>"
            ],
            "application/javascript": [
              "\n",
              "    async function download(id, filename, size) {\n",
              "      if (!google.colab.kernel.accessAllowed) {\n",
              "        return;\n",
              "      }\n",
              "      const div = document.createElement('div');\n",
              "      const label = document.createElement('label');\n",
              "      label.textContent = `Downloading \"${filename}\": `;\n",
              "      div.appendChild(label);\n",
              "      const progress = document.createElement('progress');\n",
              "      progress.max = size;\n",
              "      div.appendChild(progress);\n",
              "      document.body.appendChild(div);\n",
              "\n",
              "      const buffers = [];\n",
              "      let downloaded = 0;\n",
              "\n",
              "      const channel = await google.colab.kernel.comms.open(id);\n",
              "      // Send a message to notify the kernel that we're ready.\n",
              "      channel.send({})\n",
              "\n",
              "      for await (const message of channel.messages) {\n",
              "        // Send a message to notify the kernel that we're ready.\n",
              "        channel.send({})\n",
              "        if (message.buffers) {\n",
              "          for (const buffer of message.buffers) {\n",
              "            buffers.push(buffer);\n",
              "            downloaded += buffer.byteLength;\n",
              "            progress.value = downloaded;\n",
              "          }\n",
              "        }\n",
              "      }\n",
              "      const blob = new Blob(buffers, {type: 'application/binary'});\n",
              "      const a = document.createElement('a');\n",
              "      a.href = window.URL.createObjectURL(blob);\n",
              "      a.download = filename;\n",
              "      div.appendChild(a);\n",
              "      a.click();\n",
              "      div.remove();\n",
              "    }\n",
              "  "
            ]
          },
          "metadata": {}
        },
        {
          "output_type": "display_data",
          "data": {
            "text/plain": [
              "<IPython.core.display.Javascript object>"
            ],
            "application/javascript": [
              "download(\"download_ce4bc8f8-14b3-42fe-be66-5bc76112526e\", \"wellLito.csv\", 21847857)"
            ]
          },
          "metadata": {}
        }
      ],
      "source": [
        "from google.colab import files\n",
        "files.download('wellLito.csv')"
      ]
    }
  ],
  "metadata": {
    "colab": {
      "collapsed_sections": [],
      "name": "lithology_Lom.ipynb",
      "provenance": [],
      "authorship_tag": "ABX9TyO2Y9czKDrkxTVsJa1m4dPm",
      "include_colab_link": true
    },
    "kernelspec": {
      "display_name": "Python 3",
      "name": "python3"
    },
    "language_info": {
      "name": "python"
    }
  },
  "nbformat": 4,
  "nbformat_minor": 0
}