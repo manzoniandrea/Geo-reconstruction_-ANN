{
  "nbformat": 4,
  "nbformat_minor": 0,
  "metadata": {
    "colab": {
      "name": "Lithology_integration.ipynb",
      "provenance": [],
      "authorship_tag": "ABX9TyOKpGTeCB1Zx7PHDwqSiaIg",
      "include_colab_link": true
    },
    "kernelspec": {
      "name": "python3",
      "display_name": "Python 3"
    },
    "language_info": {
      "name": "python"
    }
  },
  "cells": [
    {
      "cell_type": "markdown",
      "metadata": {
        "id": "view-in-github",
        "colab_type": "text"
      },
      "source": [
        "<a href=\"https://colab.research.google.com/github/manzoniandrea/Geo-reconstruction_-ANN/blob/main/dataCategorization/Lithology_integration.ipynb\" target=\"_parent\"><img src=\"https://colab.research.google.com/assets/colab-badge.svg\" alt=\"Open In Colab\"/></a>"
      ]
    },
    {
      "cell_type": "markdown",
      "source": [
        "#libraries insrallation"
      ],
      "metadata": {
        "id": "eKLVJQQ2p5lI"
      }
    },
    {
      "cell_type": "code",
      "execution_count": null,
      "metadata": {
        "colab": {
          "base_uri": "https://localhost:8080/"
        },
        "id": "9wRwHU1zINrI",
        "outputId": "8764ce94-2356-4bf2-b903-cd67901cd999"
      },
      "outputs": [
        {
          "output_type": "stream",
          "name": "stdout",
          "text": [
            "Looking in indexes: https://pypi.org/simple, https://us-python.pkg.dev/colab-wheels/public/simple/\n",
            "Collecting geopandas\n",
            "  Downloading geopandas-0.10.2-py2.py3-none-any.whl (1.0 MB)\n",
            "\u001b[K     |████████████████████████████████| 1.0 MB 12.4 MB/s \n",
            "\u001b[?25hRequirement already satisfied: shapely>=1.6 in /usr/local/lib/python3.7/dist-packages (from geopandas) (1.8.2)\n",
            "Requirement already satisfied: pandas>=0.25.0 in /usr/local/lib/python3.7/dist-packages (from geopandas) (1.3.5)\n",
            "Collecting pyproj>=2.2.0\n",
            "  Downloading pyproj-3.2.1-cp37-cp37m-manylinux2010_x86_64.whl (6.3 MB)\n",
            "\u001b[K     |████████████████████████████████| 6.3 MB 48.7 MB/s \n",
            "\u001b[?25hCollecting fiona>=1.8\n",
            "  Downloading Fiona-1.8.21-cp37-cp37m-manylinux2014_x86_64.whl (16.7 MB)\n",
            "\u001b[K     |████████████████████████████████| 16.7 MB 404 kB/s \n",
            "\u001b[?25hCollecting click-plugins>=1.0\n",
            "  Downloading click_plugins-1.1.1-py2.py3-none-any.whl (7.5 kB)\n",
            "Collecting cligj>=0.5\n",
            "  Downloading cligj-0.7.2-py3-none-any.whl (7.1 kB)\n",
            "Requirement already satisfied: six>=1.7 in /usr/local/lib/python3.7/dist-packages (from fiona>=1.8->geopandas) (1.15.0)\n",
            "Collecting munch\n",
            "  Downloading munch-2.5.0-py2.py3-none-any.whl (10 kB)\n",
            "Requirement already satisfied: attrs>=17 in /usr/local/lib/python3.7/dist-packages (from fiona>=1.8->geopandas) (21.4.0)\n",
            "Requirement already satisfied: click>=4.0 in /usr/local/lib/python3.7/dist-packages (from fiona>=1.8->geopandas) (7.1.2)\n",
            "Requirement already satisfied: certifi in /usr/local/lib/python3.7/dist-packages (from fiona>=1.8->geopandas) (2022.5.18.1)\n",
            "Requirement already satisfied: setuptools in /usr/local/lib/python3.7/dist-packages (from fiona>=1.8->geopandas) (57.4.0)\n",
            "Requirement already satisfied: python-dateutil>=2.7.3 in /usr/local/lib/python3.7/dist-packages (from pandas>=0.25.0->geopandas) (2.8.2)\n",
            "Requirement already satisfied: pytz>=2017.3 in /usr/local/lib/python3.7/dist-packages (from pandas>=0.25.0->geopandas) (2022.1)\n",
            "Requirement already satisfied: numpy>=1.17.3 in /usr/local/lib/python3.7/dist-packages (from pandas>=0.25.0->geopandas) (1.21.6)\n",
            "Installing collected packages: munch, cligj, click-plugins, pyproj, fiona, geopandas\n",
            "Successfully installed click-plugins-1.1.1 cligj-0.7.2 fiona-1.8.21 geopandas-0.10.2 munch-2.5.0 pyproj-3.2.1\n"
          ]
        }
      ],
      "source": [
        "pip install geopandas"
      ]
    },
    {
      "cell_type": "code",
      "source": [
        "pip install pyvista"
      ],
      "metadata": {
        "colab": {
          "base_uri": "https://localhost:8080/"
        },
        "id": "rUojq1ptpndA",
        "outputId": "95860206-1d5e-4077-c837-3b4129b20625"
      },
      "execution_count": null,
      "outputs": [
        {
          "output_type": "stream",
          "name": "stdout",
          "text": [
            "Looking in indexes: https://pypi.org/simple, https://us-python.pkg.dev/colab-wheels/public/simple/\n",
            "Collecting pyvista\n",
            "  Downloading pyvista-0.34.1-py3-none-any.whl (1.4 MB)\n",
            "\u001b[K     |████████████████████████████████| 1.4 MB 13.0 MB/s \n",
            "\u001b[?25hRequirement already satisfied: numpy in /usr/local/lib/python3.7/dist-packages (from pyvista) (1.21.6)\n",
            "Requirement already satisfied: pillow in /usr/local/lib/python3.7/dist-packages (from pyvista) (7.1.2)\n",
            "Requirement already satisfied: imageio in /usr/local/lib/python3.7/dist-packages (from pyvista) (2.4.1)\n",
            "Collecting scooby>=0.5.1\n",
            "  Downloading scooby-0.5.12-py3-none-any.whl (14 kB)\n",
            "Collecting vtk\n",
            "  Downloading vtk-9.1.0-cp37-cp37m-manylinux_2_17_x86_64.manylinux2014_x86_64.whl (88.3 MB)\n",
            "\u001b[K     |████████████████████████████████| 88.3 MB 86 kB/s \n",
            "\u001b[?25hRequirement already satisfied: appdirs in /usr/local/lib/python3.7/dist-packages (from pyvista) (1.4.4)\n",
            "Requirement already satisfied: matplotlib>=2.0.0 in /usr/local/lib/python3.7/dist-packages (from vtk->pyvista) (3.2.2)\n",
            "Collecting wslink>=1.0.4\n",
            "  Downloading wslink-1.6.5-py3-none-any.whl (22 kB)\n",
            "Requirement already satisfied: python-dateutil>=2.1 in /usr/local/lib/python3.7/dist-packages (from matplotlib>=2.0.0->vtk->pyvista) (2.8.2)\n",
            "Requirement already satisfied: kiwisolver>=1.0.1 in /usr/local/lib/python3.7/dist-packages (from matplotlib>=2.0.0->vtk->pyvista) (1.4.2)\n",
            "Requirement already satisfied: pyparsing!=2.0.4,!=2.1.2,!=2.1.6,>=2.0.1 in /usr/local/lib/python3.7/dist-packages (from matplotlib>=2.0.0->vtk->pyvista) (3.0.9)\n",
            "Requirement already satisfied: cycler>=0.10 in /usr/local/lib/python3.7/dist-packages (from matplotlib>=2.0.0->vtk->pyvista) (0.11.0)\n",
            "Requirement already satisfied: typing-extensions in /usr/local/lib/python3.7/dist-packages (from kiwisolver>=1.0.1->matplotlib>=2.0.0->vtk->pyvista) (4.2.0)\n",
            "Requirement already satisfied: six>=1.5 in /usr/local/lib/python3.7/dist-packages (from python-dateutil>=2.1->matplotlib>=2.0.0->vtk->pyvista) (1.15.0)\n",
            "Collecting aiohttp\n",
            "  Downloading aiohttp-3.8.1-cp37-cp37m-manylinux_2_5_x86_64.manylinux1_x86_64.manylinux_2_12_x86_64.manylinux2010_x86_64.whl (1.1 MB)\n",
            "\u001b[K     |████████████████████████████████| 1.1 MB 44.4 MB/s \n",
            "\u001b[?25hCollecting multidict<7.0,>=4.5\n",
            "  Downloading multidict-6.0.2-cp37-cp37m-manylinux_2_17_x86_64.manylinux2014_x86_64.whl (94 kB)\n",
            "\u001b[K     |████████████████████████████████| 94 kB 1.2 MB/s \n",
            "\u001b[?25hRequirement already satisfied: attrs>=17.3.0 in /usr/local/lib/python3.7/dist-packages (from aiohttp->wslink>=1.0.4->vtk->pyvista) (21.4.0)\n",
            "Collecting async-timeout<5.0,>=4.0.0a3\n",
            "  Downloading async_timeout-4.0.2-py3-none-any.whl (5.8 kB)\n",
            "Collecting frozenlist>=1.1.1\n",
            "  Downloading frozenlist-1.3.0-cp37-cp37m-manylinux_2_5_x86_64.manylinux1_x86_64.manylinux_2_17_x86_64.manylinux2014_x86_64.whl (144 kB)\n",
            "\u001b[K     |████████████████████████████████| 144 kB 12.0 MB/s \n",
            "\u001b[?25hCollecting yarl<2.0,>=1.0\n",
            "  Downloading yarl-1.7.2-cp37-cp37m-manylinux_2_5_x86_64.manylinux1_x86_64.manylinux_2_12_x86_64.manylinux2010_x86_64.whl (271 kB)\n",
            "\u001b[K     |████████████████████████████████| 271 kB 53.4 MB/s \n",
            "\u001b[?25hCollecting aiosignal>=1.1.2\n",
            "  Downloading aiosignal-1.2.0-py3-none-any.whl (8.2 kB)\n",
            "Collecting asynctest==0.13.0\n",
            "  Downloading asynctest-0.13.0-py3-none-any.whl (26 kB)\n",
            "Requirement already satisfied: charset-normalizer<3.0,>=2.0 in /usr/local/lib/python3.7/dist-packages (from aiohttp->wslink>=1.0.4->vtk->pyvista) (2.0.12)\n",
            "Requirement already satisfied: idna>=2.0 in /usr/local/lib/python3.7/dist-packages (from yarl<2.0,>=1.0->aiohttp->wslink>=1.0.4->vtk->pyvista) (2.10)\n",
            "Installing collected packages: multidict, frozenlist, yarl, asynctest, async-timeout, aiosignal, aiohttp, wslink, vtk, scooby, pyvista\n",
            "Successfully installed aiohttp-3.8.1 aiosignal-1.2.0 async-timeout-4.0.2 asynctest-0.13.0 frozenlist-1.3.0 multidict-6.0.2 pyvista-0.34.1 scooby-0.5.12 vtk-9.1.0 wslink-1.6.5 yarl-1.7.2\n"
          ]
        }
      ]
    },
    {
      "cell_type": "code",
      "source": [
        "pip install rasterio"
      ],
      "metadata": {
        "colab": {
          "base_uri": "https://localhost:8080/"
        },
        "id": "fndHdRAnpr5j",
        "outputId": "c8c31b2b-b693-4048-a23c-9f47fcd8fa9e"
      },
      "execution_count": null,
      "outputs": [
        {
          "output_type": "stream",
          "name": "stdout",
          "text": [
            "Looking in indexes: https://pypi.org/simple, https://us-python.pkg.dev/colab-wheels/public/simple/\n",
            "Collecting rasterio\n",
            "  Downloading rasterio-1.2.10-cp37-cp37m-manylinux1_x86_64.whl (19.3 MB)\n",
            "\u001b[K     |████████████████████████████████| 19.3 MB 1.3 MB/s \n",
            "\u001b[?25hCollecting affine\n",
            "  Downloading affine-2.3.1-py2.py3-none-any.whl (16 kB)\n",
            "Requirement already satisfied: attrs in /usr/local/lib/python3.7/dist-packages (from rasterio) (21.4.0)\n",
            "Requirement already satisfied: setuptools in /usr/local/lib/python3.7/dist-packages (from rasterio) (57.4.0)\n",
            "Requirement already satisfied: click>=4.0 in /usr/local/lib/python3.7/dist-packages (from rasterio) (7.1.2)\n",
            "Requirement already satisfied: cligj>=0.5 in /usr/local/lib/python3.7/dist-packages (from rasterio) (0.7.2)\n",
            "Collecting snuggs>=1.4.1\n",
            "  Downloading snuggs-1.4.7-py3-none-any.whl (5.4 kB)\n",
            "Requirement already satisfied: click-plugins in /usr/local/lib/python3.7/dist-packages (from rasterio) (1.1.1)\n",
            "Requirement already satisfied: numpy in /usr/local/lib/python3.7/dist-packages (from rasterio) (1.21.6)\n",
            "Requirement already satisfied: certifi in /usr/local/lib/python3.7/dist-packages (from rasterio) (2022.5.18.1)\n",
            "Requirement already satisfied: pyparsing>=2.1.6 in /usr/local/lib/python3.7/dist-packages (from snuggs>=1.4.1->rasterio) (3.0.9)\n",
            "Installing collected packages: snuggs, affine, rasterio\n",
            "Successfully installed affine-2.3.1 rasterio-1.2.10 snuggs-1.4.7\n"
          ]
        }
      ]
    },
    {
      "cell_type": "markdown",
      "source": [
        "#Import libraries and data"
      ],
      "metadata": {
        "id": "SLWXTetAqCmG"
      }
    },
    {
      "cell_type": "code",
      "source": [
        "import pyvista as pv\n",
        "import pandas as pd\n",
        "from pyproj import Transformer\n",
        "import numpy as np\n",
        "import rasterio"
      ],
      "metadata": {
        "id": "Nlud3pS0qHhU"
      },
      "execution_count": null,
      "outputs": []
    },
    {
      "cell_type": "markdown",
      "source": [
        "dastaset generated from the different regional and national dataset (look at the deicate GitHub folders: https://github.com/manzoniandrea/Geo-reconstruction_-ANN/tree/main/dataCategorization)"
      ],
      "metadata": {
        "id": "pywGs6s-44Yt"
      }
    },
    {
      "cell_type": "code",
      "source": [
        "wellLitoL = pd.read_csv('wellLito_L.csv',index_col=0)\n",
        "wellLitoP = pd.read_csv('wellLito_P.csv',index_col=0)\n",
        "wellLitoPo = pd.read_csv('wellLito_Po.csv',index_col=0)\n",
        "wellLitoER =  pd.read_csv('wellLito_ER.csv',index_col=0)"
      ],
      "metadata": {
        "colab": {
          "base_uri": "https://localhost:8080/"
        },
        "id": "Ff0Dqp9OqKdI",
        "outputId": "e8790dfd-9308-4bf7-80ec-5cbe04802d54"
      },
      "execution_count": null,
      "outputs": [
        {
          "output_type": "stream",
          "name": "stderr",
          "text": [
            "/usr/local/lib/python3.7/dist-packages/IPython/core/interactiveshell.py:2882: DtypeWarning: Columns (11,13) have mixed types.Specify dtype option on import or set low_memory=False.\n",
            "  exec(code_obj, self.user_global_ns, self.user_ns)\n"
          ]
        }
      ]
    },
    {
      "cell_type": "markdown",
      "source": [
        "#Eliminate duplicate profiles"
      ],
      "metadata": {
        "id": "82D8L_jA5bpx"
      }
    },
    {
      "cell_type": "code",
      "source": [
        "#EMILIA ROMAGNA: create a compact dataframe with only a row for a well and add the\n",
        "#number of layers available per well\n",
        "countER = wellLitoER.SIGLA.value_counts().to_dict()\n",
        "wellsER = wellLitoER.drop_duplicates('SIGLA')\n",
        "nLayers = wellsER['SIGLA']\n",
        "wellsER['nlayers'] = nLayers\n",
        "wellsER = wellsER.replace({\"nlayers\" : countER})"
      ],
      "metadata": {
        "colab": {
          "base_uri": "https://localhost:8080/"
        },
        "id": "E5wMbladbSZh",
        "outputId": "34077cf6-0578-401d-9b7a-415614197ccc"
      },
      "execution_count": null,
      "outputs": [
        {
          "output_type": "stream",
          "name": "stderr",
          "text": [
            "/usr/local/lib/python3.7/dist-packages/ipykernel_launcher.py:6: SettingWithCopyWarning: \n",
            "A value is trying to be set on a copy of a slice from a DataFrame.\n",
            "Try using .loc[row_indexer,col_indexer] = value instead\n",
            "\n",
            "See the caveats in the documentation: https://pandas.pydata.org/pandas-docs/stable/user_guide/indexing.html#returning-a-view-versus-a-copy\n",
            "  \n"
          ]
        }
      ]
    },
    {
      "cell_type": "code",
      "source": [
        "#LOMBARDIA: create a compact dataframe with only a row for a well and add the\n",
        "#number of layers available per well\n",
        "countL = wellLitoL.ide.value_counts().to_dict()\n",
        "wellsL = wellLitoL.drop_duplicates('ide')\n",
        "nLayers = wellsL['ide']\n",
        "wellsL['nlayers'] = nLayers\n",
        "wellsL = wellsL.replace({\"nlayers\" : countL})"
      ],
      "metadata": {
        "colab": {
          "base_uri": "https://localhost:8080/"
        },
        "id": "3huXTXIFrSwV",
        "outputId": "07a3387c-b67c-4291-94ef-55be1b02ab93"
      },
      "execution_count": null,
      "outputs": [
        {
          "output_type": "stream",
          "name": "stderr",
          "text": [
            "/usr/local/lib/python3.7/dist-packages/ipykernel_launcher.py:6: SettingWithCopyWarning: \n",
            "A value is trying to be set on a copy of a slice from a DataFrame.\n",
            "Try using .loc[row_indexer,col_indexer] = value instead\n",
            "\n",
            "See the caveats in the documentation: https://pandas.pydata.org/pandas-docs/stable/user_guide/indexing.html#returning-a-view-versus-a-copy\n",
            "  \n"
          ]
        }
      ]
    },
    {
      "cell_type": "code",
      "source": [
        "#PIEMONTE: create a compact dataframe with only a row for a well and add the\n",
        "#number of layers available per well\n",
        "countP = wellLitoP.link_stratigrafiasemplificata.value_counts().to_dict()\n",
        "wellsP = wellLitoP.drop_duplicates('link_stratigrafiasemplificata')\n",
        "nLayers = wellsP['link_stratigrafiasemplificata']\n",
        "wellsP['nlayers'] = nLayers\n",
        "wellsP = wellsP.replace({\"nlayers\": countP})"
      ],
      "metadata": {
        "colab": {
          "base_uri": "https://localhost:8080/"
        },
        "id": "lfzn4lEZQFsa",
        "outputId": "981fd6c8-5cf0-4f53-f7a6-ed1788c79a67"
      },
      "execution_count": null,
      "outputs": [
        {
          "output_type": "stream",
          "name": "stderr",
          "text": [
            "/usr/local/lib/python3.7/dist-packages/ipykernel_launcher.py:6: SettingWithCopyWarning: \n",
            "A value is trying to be set on a copy of a slice from a DataFrame.\n",
            "Try using .loc[row_indexer,col_indexer] = value instead\n",
            "\n",
            "See the caveats in the documentation: https://pandas.pydata.org/pandas-docs/stable/user_guide/indexing.html#returning-a-view-versus-a-copy\n",
            "  \n"
          ]
        }
      ]
    },
    {
      "cell_type": "code",
      "source": [
        "#PO_ISPRA: create a compact dataframe with only a row for a well and add the\n",
        "#number of layers available per well\n",
        "countPo = wellLitoPo.URL.value_counts().to_dict()\n",
        "wellsPo = wellLitoPo.drop_duplicates('URL')\n",
        "nLayers = wellsPo['URL']\n",
        "wellsPo['nlayers'] = nLayers\n",
        "wellsPo = wellsPo.replace({\"nlayers\": countPo})"
      ],
      "metadata": {
        "id": "5fvuQabgxp11",
        "colab": {
          "base_uri": "https://localhost:8080/"
        },
        "outputId": "623931b4-6fe3-4303-bede-e42cc0192066"
      },
      "execution_count": null,
      "outputs": [
        {
          "output_type": "stream",
          "name": "stderr",
          "text": [
            "/usr/local/lib/python3.7/dist-packages/ipykernel_launcher.py:6: SettingWithCopyWarning: \n",
            "A value is trying to be set on a copy of a slice from a DataFrame.\n",
            "Try using .loc[row_indexer,col_indexer] = value instead\n",
            "\n",
            "See the caveats in the documentation: https://pandas.pydata.org/pandas-docs/stable/user_guide/indexing.html#returning-a-view-versus-a-copy\n",
            "  \n"
          ]
        }
      ]
    },
    {
      "cell_type": "code",
      "source": [
        "from scipy.spatial.distance import cdist\n",
        "point = [(Easting, Northing) for Easting,Northing in zip(wellsER['Easting'], wellsER['Northing'])] \n",
        "points = [(E_54012, N_54012) for E_54012,N_54012 in zip(wellsPo['E_54012'], wellsPo['N_54012'])] \n",
        "distERPo = np.zeros(len(point))\n",
        "for i in range(len(point)):\n",
        "    distERPo[i] = sum((cdist([point[i]], points)<50)[0])"
      ],
      "metadata": {
        "id": "092NqQZycIEh"
      },
      "execution_count": null,
      "outputs": []
    },
    {
      "cell_type": "code",
      "source": [
        "print(sum(distERPo>0))\n",
        "print(sum(distERPo>1))\n",
        "print(sum(distERPo>2))\n",
        "print(sum(distERPo>3))\n",
        "print(sum(distERPo>4))\n",
        "print(sum(distERPo>5))\n",
        "print(sum(distERPo>6))\n",
        "print(sum(distERPo>7))\n",
        "print(sum(distERPo>8))\n",
        "print(sum(distERPo>9))"
      ],
      "metadata": {
        "colab": {
          "base_uri": "https://localhost:8080/"
        },
        "id": "I0wMh5AjcIyV",
        "outputId": "2022f024-92e2-4733-e903-d1c2be4f9796"
      },
      "execution_count": null,
      "outputs": [
        {
          "output_type": "stream",
          "name": "stdout",
          "text": [
            "0\n",
            "0\n",
            "0\n",
            "0\n",
            "0\n",
            "0\n",
            "0\n",
            "0\n",
            "0\n",
            "0\n"
          ]
        }
      ]
    },
    {
      "cell_type": "code",
      "source": [
        "point = [(Easting, Northing) for Easting,Northing in zip(wellsP['Easting'], wellsP['Northing'])] \n",
        "points = [(E_54012, N_54012) for E_54012,N_54012 in zip(wellsPo['E_54012'], wellsPo['N_54012'])] \n",
        "distPPo = np.zeros(len(point))\n",
        "for i in range(len(point)):\n",
        "    distPPo[i] = sum((cdist([point[i]], points)<50)[0])"
      ],
      "metadata": {
        "id": "_JmqPNrsOO0F"
      },
      "execution_count": null,
      "outputs": []
    },
    {
      "cell_type": "code",
      "source": [
        "print(sum(distPPo>0))\n",
        "print(sum(distPPo>1))\n",
        "print(sum(distPPo>2))\n",
        "print(sum(distPPo>3))\n",
        "print(sum(distPPo>4))\n",
        "print(sum(distPPo>5))\n",
        "print(sum(distPPo>6))\n",
        "print(sum(distPPo>7))\n",
        "print(sum(distPPo>8))\n",
        "print(sum(distPPo>9))"
      ],
      "metadata": {
        "colab": {
          "base_uri": "https://localhost:8080/"
        },
        "id": "x1mSDN7H3OFv",
        "outputId": "297aefd1-6b07-4797-bd51-0cee2c63122f"
      },
      "execution_count": null,
      "outputs": [
        {
          "output_type": "stream",
          "name": "stdout",
          "text": [
            "0\n",
            "0\n",
            "0\n",
            "0\n",
            "0\n",
            "0\n",
            "0\n",
            "0\n",
            "0\n",
            "0\n"
          ]
        }
      ]
    },
    {
      "cell_type": "code",
      "source": [
        "#selection of wells with a distiance < 50 m\n",
        "point = [(Easting, Northing) for Easting,Northing in zip(wellsL['Easting'], wellsL['Northing'])] \n",
        "points = [(E_54012, N_54012) for E_54012,N_54012 in zip(wellsPo['E_54012'], wellsPo['N_54012'])] \n",
        "distLPo = np.zeros(len(point))\n",
        "for i in range(len(point)):\n",
        "    distLPo[i] = sum((cdist([point[i]], points)<50)[0])"
      ],
      "metadata": {
        "id": "5eg39fTosq8z"
      },
      "execution_count": null,
      "outputs": []
    },
    {
      "cell_type": "code",
      "source": [
        "print(sum(distLPo>0))\n",
        "print(sum(distLPo>1))\n",
        "print(sum(distLPo>2))\n",
        "print(sum(distLPo>3))\n",
        "print(sum(distLPo>4))\n",
        "print(sum(distLPo>5))\n",
        "print(sum(distLPo>6))\n",
        "print(sum(distLPo>7))\n",
        "print(sum(distLPo>8))\n",
        "print(sum(distLPo>9))"
      ],
      "metadata": {
        "colab": {
          "base_uri": "https://localhost:8080/"
        },
        "id": "ampwCicZ7wPl",
        "outputId": "4d87d9a9-c87a-43f3-e6cf-dbc87cc7e00f"
      },
      "execution_count": null,
      "outputs": [
        {
          "output_type": "stream",
          "name": "stdout",
          "text": [
            "241\n",
            "9\n",
            "2\n",
            "0\n",
            "0\n",
            "0\n",
            "0\n",
            "0\n",
            "0\n",
            "0\n"
          ]
        }
      ]
    },
    {
      "cell_type": "code",
      "source": [
        "#selection of the wells to eliminate\n",
        "doubleWellsL = wellsL[distLPo>0]\n",
        "doubleWellsL.reset_index(drop=True, inplace=True)\n",
        "doublewellsPo = np.zeros(len(wellsPo))\n",
        "toDelL = []\n",
        "toDelPo = []\n",
        "for i in range(len(doubleWellsL)):\n",
        "  point = [(Easting, Northing) for Easting,Northing in zip(doubleWellsL['Easting'], doubleWellsL['Northing'])] \n",
        "  points = [(E_54012, N_54012) for E_54012,N_54012 in zip(wellsPo['E_54012'], wellsPo['N_54012'])] \n",
        "  doublewellsPo = wellsPo[(cdist([point[i]], points)<50)[0]]\n",
        "  doublewellsPo.reset_index(drop=True, inplace=True)\n",
        "  for j in range(len(doublewellsPo)):\n",
        "    if doubleWellsL.nlayers[i] < doublewellsPo.nlayers[j]:\n",
        "      toDelL.append(doubleWellsL.ide[i])\n",
        "    else: \n",
        "      toDelPo.append(doublewellsPo.URL[j])\n",
        "  del doublewellsPo "
      ],
      "metadata": {
        "id": "-cjJ5nUwI7ha"
      },
      "execution_count": null,
      "outputs": []
    },
    {
      "cell_type": "code",
      "source": [
        "doubleWellsER = wellsER[distERPo>0]\n",
        "doubleWellsER.reset_index(drop=True, inplace=True)\n",
        "doublewellsPo = np.zeros(len(wellsPo))\n",
        "toDelER = []\n",
        "for i in range(len(doubleWellsER)):\n",
        "  point = [(Easting, Northing) for Easting,Northing in zip(doubleWellsER['Easting'], doubleWellsER['Northing'])] \n",
        "  points = [(E_54012, N_54012) for E_54012,N_54012 in zip(wellsPo['E_54012'], wellsPo['N_54012'])] \n",
        "  doublewellsPo = wellsPo[(cdist([point[i]], points)<50)[0]]\n",
        "  doublewellsPo.reset_index(drop=True, inplace=True)\n",
        "  for j in range(len(doublewellsPo)):\n",
        "    if doubleWellsER.nlayers[i] < doublewellsPo.nlayers[j]:\n",
        "      toDelER.append(doubleWellsER.SIGLA[i])\n",
        "    else: \n",
        "      toDelPo.append(doublewellsPo.URL[j])\n",
        "  del doublewellsPo "
      ],
      "metadata": {
        "id": "h-7RFN7ofYFK"
      },
      "execution_count": null,
      "outputs": []
    },
    {
      "cell_type": "code",
      "source": [
        "doubleWellsP = wellsP[distPPo>0]\n",
        "doubleWellsP.reset_index(drop=True, inplace=True)\n",
        "doublewellsPo = np.zeros(len(wellsPo))\n",
        "toDelP = []\n",
        "for i in range(len(doubleWellsP)):\n",
        "  point = [(Easting, Northing) for Easting,Northing in zip(doubleWellsP['Easting'], doubleWellsP['Northing'])] \n",
        "  points = [(E_54012, N_54012) for E_54012,N_54012 in zip(wellsPo['E_54012'], wellsPo['N_54012'])] \n",
        "  doublewellsPo = wellsPo[(cdist([point[i]], points)<50)[0]]\n",
        "  doublewellsPo.reset_index(drop=True, inplace=True)\n",
        "  for j in range(len(doublewellsPo)):\n",
        "    if doubleWellsP.nlayers[i] < doublewellsPo.nlayers[j]:\n",
        "      toDelP.append(doubleWellsP.link_stratigrafiasemplificata[i])\n",
        "    else: \n",
        "      toDelPo.append(doublewellsPo.URL[j])\n",
        "  del doublewellsPo "
      ],
      "metadata": {
        "id": "v_PGYtu0dFgc"
      },
      "execution_count": null,
      "outputs": []
    },
    {
      "cell_type": "code",
      "source": [
        "print(len(wellLitoL))\n",
        "for i in range(len(toDelL)):\n",
        "  wellLitoL = wellLitoL[wellLitoL.ide != toDelL[i]]\n",
        "print(len(wellLitoL))"
      ],
      "metadata": {
        "colab": {
          "base_uri": "https://localhost:8080/"
        },
        "id": "BCC9_cXzq353",
        "outputId": "6b0e28de-75b1-485e-859e-f27fa567d8c3"
      },
      "execution_count": null,
      "outputs": [
        {
          "output_type": "stream",
          "name": "stdout",
          "text": [
            "188194\n",
            "186415\n"
          ]
        }
      ]
    },
    {
      "cell_type": "code",
      "source": [
        "print(len(wellLitoER))\n",
        "for i in range(len(toDelER)):\n",
        "  wellLitoER = wellLitoER[wellLitoER.SIGLA != toDelER[i]]\n",
        "print(len(wellLitoER))"
      ],
      "metadata": {
        "colab": {
          "base_uri": "https://localhost:8080/"
        },
        "id": "rehYFgVJiBEk",
        "outputId": "8672ed9e-1bea-475e-da21-072172afbbb0"
      },
      "execution_count": null,
      "outputs": [
        {
          "output_type": "stream",
          "name": "stdout",
          "text": [
            "114056\n",
            "114056\n"
          ]
        }
      ]
    },
    {
      "cell_type": "code",
      "source": [
        "print(len(wellLitoP))\n",
        "for i in range(len(toDelP)):\n",
        "  wellLitoP = wellLitoP[wellLitoP.link_stratigrafiasemplificata != toDelP[i]]\n",
        "print(len(wellLitoP))"
      ],
      "metadata": {
        "colab": {
          "base_uri": "https://localhost:8080/"
        },
        "id": "ym_4NVUvh91L",
        "outputId": "43d8003f-3961-4cd6-cb9f-9728782f999b"
      },
      "execution_count": null,
      "outputs": [
        {
          "output_type": "stream",
          "name": "stdout",
          "text": [
            "86522\n",
            "86522\n"
          ]
        }
      ]
    },
    {
      "cell_type": "code",
      "source": [
        "print(len(wellLitoPo))\n",
        "for i in range(len(toDelPo)):\n",
        "  wellLitoPo = wellLitoPo[wellLitoPo.URL != toDelPo[i]]\n",
        "print(len(wellLitoPo))"
      ],
      "metadata": {
        "colab": {
          "base_uri": "https://localhost:8080/"
        },
        "id": "3BwJ4aIOiNKQ",
        "outputId": "c9f4b342-9706-4194-ab1c-3c7df94310a5"
      },
      "execution_count": null,
      "outputs": [
        {
          "output_type": "stream",
          "name": "stdout",
          "text": [
            "85003\n",
            "84362\n"
          ]
        }
      ]
    },
    {
      "cell_type": "code",
      "source": [
        "wellLitoL.to_csv('wellLito_L.csv')\n",
        "wellLitoER.to_csv('wellLito_ER.csv')\n",
        "wellLitoP.to_csv('wellLito_P.csv')\n",
        "wellLitoPo.to_csv('wellLito_Po.csv')"
      ],
      "metadata": {
        "id": "JY2c6c-ViZJu"
      },
      "execution_count": null,
      "outputs": []
    },
    {
      "cell_type": "code",
      "source": [
        "#litostrat L+ER+P+Po\n",
        "print(170856+114056+86522+85003)\n",
        "#wells L+ER+P+Po\n",
        "print(14336+15052+13363+8806)"
      ],
      "metadata": {
        "colab": {
          "base_uri": "https://localhost:8080/"
        },
        "id": "njtRRjSYr7ll",
        "outputId": "0495834d-4ae6-48dc-fec7-08e42972e0ca"
      },
      "execution_count": null,
      "outputs": [
        {
          "output_type": "stream",
          "name": "stdout",
          "text": [
            "456437\n",
            "51557\n"
          ]
        }
      ]
    },
    {
      "cell_type": "code",
      "source": [
        "import pandas as pd "
      ],
      "metadata": {
        "id": "4-25kdOtsSaq"
      },
      "execution_count": null,
      "outputs": []
    },
    {
      "cell_type": "code",
      "source": [
        "wellLitoL = pd.read_csv('wellLito_L.csv',index_col=0)\n",
        "wellLitoP = pd.read_csv('wellLito_P.csv',index_col=0)\n",
        "wellLitoPo = pd.read_csv('wellLito_Po.csv',index_col=0)\n",
        "wellLitoER =  pd.read_csv('wellLito_ER.csv',index_col=0)"
      ],
      "metadata": {
        "colab": {
          "base_uri": "https://localhost:8080/"
        },
        "id": "eHkK3vH9sRhg",
        "outputId": "f6a4c8ae-890e-4040-93dc-b050a166eb8f"
      },
      "execution_count": null,
      "outputs": [
        {
          "output_type": "stream",
          "name": "stderr",
          "text": [
            "/usr/local/lib/python3.7/dist-packages/IPython/core/interactiveshell.py:2882: DtypeWarning: Columns (11,13) have mixed types.Specify dtype option on import or set low_memory=False.\n",
            "  exec(code_obj, self.user_global_ns, self.user_ns)\n"
          ]
        }
      ]
    },
    {
      "cell_type": "code",
      "source": [
        "len(wellLitoPo.URL.unique())"
      ],
      "metadata": {
        "colab": {
          "base_uri": "https://localhost:8080/"
        },
        "id": "U_Y9P4dMs2p1",
        "outputId": "3764d276-611a-4b38-d548-46e510ffb090"
      },
      "execution_count": null,
      "outputs": [
        {
          "output_type": "execute_result",
          "data": {
            "text/plain": [
              "8731"
            ]
          },
          "metadata": {},
          "execution_count": 27
        }
      ]
    },
    {
      "cell_type": "code",
      "source": [
        "wellLitoPo"
      ],
      "metadata": {
        "colab": {
          "base_uri": "https://localhost:8080/"
        },
        "id": "iSLlhB14s2-l",
        "outputId": "8f5a10ee-0ebb-4621-85a3-2f9245cf5831"
      },
      "execution_count": null,
      "outputs": [
        {
          "output_type": "execute_result",
          "data": {
            "text/plain": [
              "       Unnamed: 0.1  Unnamed: 0.1.1  \\\n",
              "0                 0               0   \n",
              "1                 1               1   \n",
              "2                 2               2   \n",
              "3                 3               3   \n",
              "4                 4               4   \n",
              "...             ...             ...   \n",
              "94400         94400           94400   \n",
              "94401         94401           94401   \n",
              "94402         94402           94402   \n",
              "94403         94403           94403   \n",
              "94404         94404           94404   \n",
              "\n",
              "                                                     URL  E_54012  N_54012  \\\n",
              "0      http://sgi2.isprambiente.it/indagini/scheda_in...   862684  5604045   \n",
              "1      http://sgi2.isprambiente.it/indagini/scheda_in...   862684  5604045   \n",
              "2      http://sgi2.isprambiente.it/indagini/scheda_in...   862684  5604045   \n",
              "3      http://sgi2.isprambiente.it/indagini/scheda_in...   862684  5604045   \n",
              "4      http://sgi2.isprambiente.it/indagini/scheda_in...   862684  5604045   \n",
              "...                                                  ...      ...      ...   \n",
              "94400  http://sgi2.isprambiente.it/indagini/scheda_in...   674166  5582283   \n",
              "94401  http://sgi2.isprambiente.it/indagini/scheda_in...   674166  5582283   \n",
              "94402  http://sgi2.isprambiente.it/indagini/scheda_in...   674166  5582283   \n",
              "94403  http://sgi2.isprambiente.it/indagini/scheda_in...   674166  5582283   \n",
              "94404  http://sgi2.isprambiente.it/indagini/scheda_in...   674166  5582283   \n",
              "\n",
              "       spessore_livello                                           l1_descr  \\\n",
              "0                  23.0  GHIAIA CON CEPPO NOCCIOLA E SABBIA CON GROSSI ...   \n",
              "1                   4.0                            ARGILLA CON POCA GHIAIA   \n",
              "2                  38.0  GHIAIA CON CEPPO NOCCIOLA E BIANCO MOLTO COMPATTO   \n",
              "3                  38.0                   GHIAIA CON CEPPO GRIGIO E BIANCO   \n",
              "4                   3.0                            ARGILLA GRIGIA-NOCCIOLA   \n",
              "...                 ...                                                ...   \n",
              "94400               0.2                      TERRENO AGRICOLO SABB. LIMOSO   \n",
              "94401               0.8                        LIMO OCRACEO MOLTO SABBIOSO   \n",
              "94402               1.7  LIMO POCO SABBIOSO MARRONE CON VENATURE GRIGIE...   \n",
              "94403               1.3  GHIAIA E CIOTTOLI IN MATRICE LIMOSA SABBIOSA P...   \n",
              "94404               6.0  GHIAIA E CIOTTOLI IN MATRICE SABBIOSA MEDIA PO...   \n",
              "\n",
              "       quota  top_Layer  bttom_Layer     l1       category_name category  \n",
              "0        164      164.0        141.0  11118              Ghiaia      300  \n",
              "1        164      141.0        160.0   2812             Argilla      100  \n",
              "2        164      160.0        126.0  11117              Ghiaia      300  \n",
              "3        164      126.0        126.0  11102              Ghiaia      300  \n",
              "4        164      126.0        161.0   4487             Argilla      100  \n",
              "...      ...        ...          ...    ...                 ...      ...  \n",
              "94400    155      155.0        154.8  27762  Materiale organico      602  \n",
              "94401    155      154.8        154.2  19284                Limo      400  \n",
              "94402    155      154.2        153.3  19294                Limo      400  \n",
              "94403    155      153.3        153.7  12471                Limo      400  \n",
              "94404    155      153.7        149.0  12494              Sabbia      700  \n",
              "\n",
              "[84362 rows x 13 columns]"
            ],
            "text/html": [
              "\n",
              "  <div id=\"df-a0f3641a-c3e4-4873-af5c-aed1f5961088\">\n",
              "    <div class=\"colab-df-container\">\n",
              "      <div>\n",
              "<style scoped>\n",
              "    .dataframe tbody tr th:only-of-type {\n",
              "        vertical-align: middle;\n",
              "    }\n",
              "\n",
              "    .dataframe tbody tr th {\n",
              "        vertical-align: top;\n",
              "    }\n",
              "\n",
              "    .dataframe thead th {\n",
              "        text-align: right;\n",
              "    }\n",
              "</style>\n",
              "<table border=\"1\" class=\"dataframe\">\n",
              "  <thead>\n",
              "    <tr style=\"text-align: right;\">\n",
              "      <th></th>\n",
              "      <th>Unnamed: 0.1</th>\n",
              "      <th>Unnamed: 0.1.1</th>\n",
              "      <th>URL</th>\n",
              "      <th>E_54012</th>\n",
              "      <th>N_54012</th>\n",
              "      <th>spessore_livello</th>\n",
              "      <th>l1_descr</th>\n",
              "      <th>quota</th>\n",
              "      <th>top_Layer</th>\n",
              "      <th>bttom_Layer</th>\n",
              "      <th>l1</th>\n",
              "      <th>category_name</th>\n",
              "      <th>category</th>\n",
              "    </tr>\n",
              "  </thead>\n",
              "  <tbody>\n",
              "    <tr>\n",
              "      <th>0</th>\n",
              "      <td>0</td>\n",
              "      <td>0</td>\n",
              "      <td>http://sgi2.isprambiente.it/indagini/scheda_in...</td>\n",
              "      <td>862684</td>\n",
              "      <td>5604045</td>\n",
              "      <td>23.0</td>\n",
              "      <td>GHIAIA CON CEPPO NOCCIOLA E SABBIA CON GROSSI ...</td>\n",
              "      <td>164</td>\n",
              "      <td>164.0</td>\n",
              "      <td>141.0</td>\n",
              "      <td>11118</td>\n",
              "      <td>Ghiaia</td>\n",
              "      <td>300</td>\n",
              "    </tr>\n",
              "    <tr>\n",
              "      <th>1</th>\n",
              "      <td>1</td>\n",
              "      <td>1</td>\n",
              "      <td>http://sgi2.isprambiente.it/indagini/scheda_in...</td>\n",
              "      <td>862684</td>\n",
              "      <td>5604045</td>\n",
              "      <td>4.0</td>\n",
              "      <td>ARGILLA CON POCA GHIAIA</td>\n",
              "      <td>164</td>\n",
              "      <td>141.0</td>\n",
              "      <td>160.0</td>\n",
              "      <td>2812</td>\n",
              "      <td>Argilla</td>\n",
              "      <td>100</td>\n",
              "    </tr>\n",
              "    <tr>\n",
              "      <th>2</th>\n",
              "      <td>2</td>\n",
              "      <td>2</td>\n",
              "      <td>http://sgi2.isprambiente.it/indagini/scheda_in...</td>\n",
              "      <td>862684</td>\n",
              "      <td>5604045</td>\n",
              "      <td>38.0</td>\n",
              "      <td>GHIAIA CON CEPPO NOCCIOLA E BIANCO MOLTO COMPATTO</td>\n",
              "      <td>164</td>\n",
              "      <td>160.0</td>\n",
              "      <td>126.0</td>\n",
              "      <td>11117</td>\n",
              "      <td>Ghiaia</td>\n",
              "      <td>300</td>\n",
              "    </tr>\n",
              "    <tr>\n",
              "      <th>3</th>\n",
              "      <td>3</td>\n",
              "      <td>3</td>\n",
              "      <td>http://sgi2.isprambiente.it/indagini/scheda_in...</td>\n",
              "      <td>862684</td>\n",
              "      <td>5604045</td>\n",
              "      <td>38.0</td>\n",
              "      <td>GHIAIA CON CEPPO GRIGIO E BIANCO</td>\n",
              "      <td>164</td>\n",
              "      <td>126.0</td>\n",
              "      <td>126.0</td>\n",
              "      <td>11102</td>\n",
              "      <td>Ghiaia</td>\n",
              "      <td>300</td>\n",
              "    </tr>\n",
              "    <tr>\n",
              "      <th>4</th>\n",
              "      <td>4</td>\n",
              "      <td>4</td>\n",
              "      <td>http://sgi2.isprambiente.it/indagini/scheda_in...</td>\n",
              "      <td>862684</td>\n",
              "      <td>5604045</td>\n",
              "      <td>3.0</td>\n",
              "      <td>ARGILLA GRIGIA-NOCCIOLA</td>\n",
              "      <td>164</td>\n",
              "      <td>126.0</td>\n",
              "      <td>161.0</td>\n",
              "      <td>4487</td>\n",
              "      <td>Argilla</td>\n",
              "      <td>100</td>\n",
              "    </tr>\n",
              "    <tr>\n",
              "      <th>...</th>\n",
              "      <td>...</td>\n",
              "      <td>...</td>\n",
              "      <td>...</td>\n",
              "      <td>...</td>\n",
              "      <td>...</td>\n",
              "      <td>...</td>\n",
              "      <td>...</td>\n",
              "      <td>...</td>\n",
              "      <td>...</td>\n",
              "      <td>...</td>\n",
              "      <td>...</td>\n",
              "      <td>...</td>\n",
              "      <td>...</td>\n",
              "    </tr>\n",
              "    <tr>\n",
              "      <th>94400</th>\n",
              "      <td>94400</td>\n",
              "      <td>94400</td>\n",
              "      <td>http://sgi2.isprambiente.it/indagini/scheda_in...</td>\n",
              "      <td>674166</td>\n",
              "      <td>5582283</td>\n",
              "      <td>0.2</td>\n",
              "      <td>TERRENO AGRICOLO SABB. LIMOSO</td>\n",
              "      <td>155</td>\n",
              "      <td>155.0</td>\n",
              "      <td>154.8</td>\n",
              "      <td>27762</td>\n",
              "      <td>Materiale organico</td>\n",
              "      <td>602</td>\n",
              "    </tr>\n",
              "    <tr>\n",
              "      <th>94401</th>\n",
              "      <td>94401</td>\n",
              "      <td>94401</td>\n",
              "      <td>http://sgi2.isprambiente.it/indagini/scheda_in...</td>\n",
              "      <td>674166</td>\n",
              "      <td>5582283</td>\n",
              "      <td>0.8</td>\n",
              "      <td>LIMO OCRACEO MOLTO SABBIOSO</td>\n",
              "      <td>155</td>\n",
              "      <td>154.8</td>\n",
              "      <td>154.2</td>\n",
              "      <td>19284</td>\n",
              "      <td>Limo</td>\n",
              "      <td>400</td>\n",
              "    </tr>\n",
              "    <tr>\n",
              "      <th>94402</th>\n",
              "      <td>94402</td>\n",
              "      <td>94402</td>\n",
              "      <td>http://sgi2.isprambiente.it/indagini/scheda_in...</td>\n",
              "      <td>674166</td>\n",
              "      <td>5582283</td>\n",
              "      <td>1.7</td>\n",
              "      <td>LIMO POCO SABBIOSO MARRONE CON VENATURE GRIGIE...</td>\n",
              "      <td>155</td>\n",
              "      <td>154.2</td>\n",
              "      <td>153.3</td>\n",
              "      <td>19294</td>\n",
              "      <td>Limo</td>\n",
              "      <td>400</td>\n",
              "    </tr>\n",
              "    <tr>\n",
              "      <th>94403</th>\n",
              "      <td>94403</td>\n",
              "      <td>94403</td>\n",
              "      <td>http://sgi2.isprambiente.it/indagini/scheda_in...</td>\n",
              "      <td>674166</td>\n",
              "      <td>5582283</td>\n",
              "      <td>1.3</td>\n",
              "      <td>GHIAIA E CIOTTOLI IN MATRICE LIMOSA SABBIOSA P...</td>\n",
              "      <td>155</td>\n",
              "      <td>153.3</td>\n",
              "      <td>153.7</td>\n",
              "      <td>12471</td>\n",
              "      <td>Limo</td>\n",
              "      <td>400</td>\n",
              "    </tr>\n",
              "    <tr>\n",
              "      <th>94404</th>\n",
              "      <td>94404</td>\n",
              "      <td>94404</td>\n",
              "      <td>http://sgi2.isprambiente.it/indagini/scheda_in...</td>\n",
              "      <td>674166</td>\n",
              "      <td>5582283</td>\n",
              "      <td>6.0</td>\n",
              "      <td>GHIAIA E CIOTTOLI IN MATRICE SABBIOSA MEDIA PO...</td>\n",
              "      <td>155</td>\n",
              "      <td>153.7</td>\n",
              "      <td>149.0</td>\n",
              "      <td>12494</td>\n",
              "      <td>Sabbia</td>\n",
              "      <td>700</td>\n",
              "    </tr>\n",
              "  </tbody>\n",
              "</table>\n",
              "<p>84362 rows × 13 columns</p>\n",
              "</div>\n",
              "      <button class=\"colab-df-convert\" onclick=\"convertToInteractive('df-a0f3641a-c3e4-4873-af5c-aed1f5961088')\"\n",
              "              title=\"Convert this dataframe to an interactive table.\"\n",
              "              style=\"display:none;\">\n",
              "        \n",
              "  <svg xmlns=\"http://www.w3.org/2000/svg\" height=\"24px\"viewBox=\"0 0 24 24\"\n",
              "       width=\"24px\">\n",
              "    <path d=\"M0 0h24v24H0V0z\" fill=\"none\"/>\n",
              "    <path d=\"M18.56 5.44l.94 2.06.94-2.06 2.06-.94-2.06-.94-.94-2.06-.94 2.06-2.06.94zm-11 1L8.5 8.5l.94-2.06 2.06-.94-2.06-.94L8.5 2.5l-.94 2.06-2.06.94zm10 10l.94 2.06.94-2.06 2.06-.94-2.06-.94-.94-2.06-.94 2.06-2.06.94z\"/><path d=\"M17.41 7.96l-1.37-1.37c-.4-.4-.92-.59-1.43-.59-.52 0-1.04.2-1.43.59L10.3 9.45l-7.72 7.72c-.78.78-.78 2.05 0 2.83L4 21.41c.39.39.9.59 1.41.59.51 0 1.02-.2 1.41-.59l7.78-7.78 2.81-2.81c.8-.78.8-2.07 0-2.86zM5.41 20L4 18.59l7.72-7.72 1.47 1.35L5.41 20z\"/>\n",
              "  </svg>\n",
              "      </button>\n",
              "      \n",
              "  <style>\n",
              "    .colab-df-container {\n",
              "      display:flex;\n",
              "      flex-wrap:wrap;\n",
              "      gap: 12px;\n",
              "    }\n",
              "\n",
              "    .colab-df-convert {\n",
              "      background-color: #E8F0FE;\n",
              "      border: none;\n",
              "      border-radius: 50%;\n",
              "      cursor: pointer;\n",
              "      display: none;\n",
              "      fill: #1967D2;\n",
              "      height: 32px;\n",
              "      padding: 0 0 0 0;\n",
              "      width: 32px;\n",
              "    }\n",
              "\n",
              "    .colab-df-convert:hover {\n",
              "      background-color: #E2EBFA;\n",
              "      box-shadow: 0px 1px 2px rgba(60, 64, 67, 0.3), 0px 1px 3px 1px rgba(60, 64, 67, 0.15);\n",
              "      fill: #174EA6;\n",
              "    }\n",
              "\n",
              "    [theme=dark] .colab-df-convert {\n",
              "      background-color: #3B4455;\n",
              "      fill: #D2E3FC;\n",
              "    }\n",
              "\n",
              "    [theme=dark] .colab-df-convert:hover {\n",
              "      background-color: #434B5C;\n",
              "      box-shadow: 0px 1px 3px 1px rgba(0, 0, 0, 0.15);\n",
              "      filter: drop-shadow(0px 1px 2px rgba(0, 0, 0, 0.3));\n",
              "      fill: #FFFFFF;\n",
              "    }\n",
              "  </style>\n",
              "\n",
              "      <script>\n",
              "        const buttonEl =\n",
              "          document.querySelector('#df-a0f3641a-c3e4-4873-af5c-aed1f5961088 button.colab-df-convert');\n",
              "        buttonEl.style.display =\n",
              "          google.colab.kernel.accessAllowed ? 'block' : 'none';\n",
              "\n",
              "        async function convertToInteractive(key) {\n",
              "          const element = document.querySelector('#df-a0f3641a-c3e4-4873-af5c-aed1f5961088');\n",
              "          const dataTable =\n",
              "            await google.colab.kernel.invokeFunction('convertToInteractive',\n",
              "                                                     [key], {});\n",
              "          if (!dataTable) return;\n",
              "\n",
              "          const docLinkHtml = 'Like what you see? Visit the ' +\n",
              "            '<a target=\"_blank\" href=https://colab.research.google.com/notebooks/data_table.ipynb>data table notebook</a>'\n",
              "            + ' to learn more about interactive tables.';\n",
              "          element.innerHTML = '';\n",
              "          dataTable['output_type'] = 'display_data';\n",
              "          await google.colab.output.renderOutput(dataTable, element);\n",
              "          const docLink = document.createElement('div');\n",
              "          docLink.innerHTML = docLinkHtml;\n",
              "          element.appendChild(docLink);\n",
              "        }\n",
              "      </script>\n",
              "    </div>\n",
              "  </div>\n",
              "  "
            ]
          },
          "metadata": {},
          "execution_count": 28
        }
      ]
    },
    {
      "cell_type": "code",
      "source": [
        ""
      ],
      "metadata": {
        "id": "tZNiTDmHtCSd"
      },
      "execution_count": null,
      "outputs": []
    }
  ]
}