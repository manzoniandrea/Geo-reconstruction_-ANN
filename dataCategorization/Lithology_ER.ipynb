{
  "cells": [
    {
      "cell_type": "markdown",
      "metadata": {
        "id": "view-in-github",
        "colab_type": "text"
      },
      "source": [
        "<a href=\"https://colab.research.google.com/github/manzoniandrea/Geo-reconstruction_-ANN/blob/main/dataCategorization/Lithology_ER.ipynb\" target=\"_parent\"><img src=\"https://colab.research.google.com/assets/colab-badge.svg\" alt=\"Open In Colab\"/></a>"
      ]
    },
    {
      "cell_type": "code",
      "source": [
        "pip install rasterio"
      ],
      "metadata": {
        "colab": {
          "base_uri": "https://localhost:8080/"
        },
        "id": "LInImsiRyWwH",
        "outputId": "6716868d-ce9b-4631-d6fa-106024d327e1"
      },
      "execution_count": null,
      "outputs": [
        {
          "output_type": "stream",
          "name": "stdout",
          "text": [
            "Collecting rasterio\n",
            "  Downloading rasterio-1.2.10-cp37-cp37m-manylinux1_x86_64.whl (19.3 MB)\n",
            "\u001b[K     |████████████████████████████████| 19.3 MB 1.3 MB/s \n",
            "\u001b[?25hRequirement already satisfied: attrs in /usr/local/lib/python3.7/dist-packages (from rasterio) (21.4.0)\n",
            "Requirement already satisfied: setuptools in /usr/local/lib/python3.7/dist-packages (from rasterio) (57.4.0)\n",
            "Requirement already satisfied: numpy in /usr/local/lib/python3.7/dist-packages (from rasterio) (1.19.5)\n",
            "Collecting snuggs>=1.4.1\n",
            "  Downloading snuggs-1.4.7-py3-none-any.whl (5.4 kB)\n",
            "Collecting cligj>=0.5\n",
            "  Downloading cligj-0.7.2-py3-none-any.whl (7.1 kB)\n",
            "Requirement already satisfied: certifi in /usr/local/lib/python3.7/dist-packages (from rasterio) (2021.10.8)\n",
            "Collecting affine\n",
            "  Downloading affine-2.3.0-py2.py3-none-any.whl (15 kB)\n",
            "Requirement already satisfied: click>=4.0 in /usr/local/lib/python3.7/dist-packages (from rasterio) (7.1.2)\n",
            "Collecting click-plugins\n",
            "  Downloading click_plugins-1.1.1-py2.py3-none-any.whl (7.5 kB)\n",
            "Requirement already satisfied: pyparsing>=2.1.6 in /usr/local/lib/python3.7/dist-packages (from snuggs>=1.4.1->rasterio) (3.0.7)\n",
            "Installing collected packages: snuggs, cligj, click-plugins, affine, rasterio\n",
            "Successfully installed affine-2.3.0 click-plugins-1.1.1 cligj-0.7.2 rasterio-1.2.10 snuggs-1.4.7\n"
          ]
        }
      ]
    },
    {
      "cell_type": "code",
      "source": [
        "pip install pyvista"
      ],
      "metadata": {
        "colab": {
          "base_uri": "https://localhost:8080/"
        },
        "id": "BDgNdKOdOLli",
        "outputId": "4bb717ef-2cfa-4b46-8223-a7b11d789b6a"
      },
      "execution_count": null,
      "outputs": [
        {
          "output_type": "stream",
          "name": "stdout",
          "text": [
            "Requirement already satisfied: pyvista in /usr/local/lib/python3.7/dist-packages (0.33.2)\n",
            "Requirement already satisfied: pillow in /usr/local/lib/python3.7/dist-packages (from pyvista) (7.1.2)\n",
            "Requirement already satisfied: vtk in /usr/local/lib/python3.7/dist-packages (from pyvista) (9.1.0)\n",
            "Requirement already satisfied: imageio in /usr/local/lib/python3.7/dist-packages (from pyvista) (2.4.1)\n",
            "Requirement already satisfied: scooby>=0.5.1 in /usr/local/lib/python3.7/dist-packages (from pyvista) (0.5.11)\n",
            "Requirement already satisfied: typing-extensions in /usr/local/lib/python3.7/dist-packages (from pyvista) (3.10.0.2)\n",
            "Requirement already satisfied: numpy in /usr/local/lib/python3.7/dist-packages (from pyvista) (1.19.5)\n",
            "Requirement already satisfied: appdirs in /usr/local/lib/python3.7/dist-packages (from pyvista) (1.4.4)\n",
            "Requirement already satisfied: wslink>=1.0.4 in /usr/local/lib/python3.7/dist-packages (from vtk->pyvista) (1.3.3)\n",
            "Requirement already satisfied: matplotlib>=2.0.0 in /usr/local/lib/python3.7/dist-packages (from vtk->pyvista) (3.2.2)\n",
            "Requirement already satisfied: python-dateutil>=2.1 in /usr/local/lib/python3.7/dist-packages (from matplotlib>=2.0.0->vtk->pyvista) (2.8.2)\n",
            "Requirement already satisfied: cycler>=0.10 in /usr/local/lib/python3.7/dist-packages (from matplotlib>=2.0.0->vtk->pyvista) (0.11.0)\n",
            "Requirement already satisfied: kiwisolver>=1.0.1 in /usr/local/lib/python3.7/dist-packages (from matplotlib>=2.0.0->vtk->pyvista) (1.3.2)\n",
            "Requirement already satisfied: pyparsing!=2.0.4,!=2.1.2,!=2.1.6,>=2.0.1 in /usr/local/lib/python3.7/dist-packages (from matplotlib>=2.0.0->vtk->pyvista) (3.0.7)\n",
            "Requirement already satisfied: six>=1.5 in /usr/local/lib/python3.7/dist-packages (from python-dateutil>=2.1->matplotlib>=2.0.0->vtk->pyvista) (1.15.0)\n",
            "Requirement already satisfied: aiohttp in /usr/local/lib/python3.7/dist-packages (from wslink>=1.0.4->vtk->pyvista) (3.8.1)\n",
            "Requirement already satisfied: async-timeout<5.0,>=4.0.0a3 in /usr/local/lib/python3.7/dist-packages (from aiohttp->wslink>=1.0.4->vtk->pyvista) (4.0.2)\n",
            "Requirement already satisfied: attrs>=17.3.0 in /usr/local/lib/python3.7/dist-packages (from aiohttp->wslink>=1.0.4->vtk->pyvista) (21.4.0)\n",
            "Requirement already satisfied: multidict<7.0,>=4.5 in /usr/local/lib/python3.7/dist-packages (from aiohttp->wslink>=1.0.4->vtk->pyvista) (6.0.2)\n",
            "Requirement already satisfied: charset-normalizer<3.0,>=2.0 in /usr/local/lib/python3.7/dist-packages (from aiohttp->wslink>=1.0.4->vtk->pyvista) (2.0.10)\n",
            "Requirement already satisfied: frozenlist>=1.1.1 in /usr/local/lib/python3.7/dist-packages (from aiohttp->wslink>=1.0.4->vtk->pyvista) (1.3.0)\n",
            "Requirement already satisfied: yarl<2.0,>=1.0 in /usr/local/lib/python3.7/dist-packages (from aiohttp->wslink>=1.0.4->vtk->pyvista) (1.7.2)\n",
            "Requirement already satisfied: aiosignal>=1.1.2 in /usr/local/lib/python3.7/dist-packages (from aiohttp->wslink>=1.0.4->vtk->pyvista) (1.2.0)\n",
            "Requirement already satisfied: asynctest==0.13.0 in /usr/local/lib/python3.7/dist-packages (from aiohttp->wslink>=1.0.4->vtk->pyvista) (0.13.0)\n",
            "Requirement already satisfied: idna>=2.0 in /usr/local/lib/python3.7/dist-packages (from yarl<2.0,>=1.0->aiohttp->wslink>=1.0.4->vtk->pyvista) (2.10)\n"
          ]
        }
      ]
    },
    {
      "cell_type": "markdown",
      "metadata": {
        "id": "o8YE8_lfvcWJ"
      },
      "source": [
        "#import libraries and database files"
      ]
    },
    {
      "cell_type": "code",
      "execution_count": null,
      "metadata": {
        "id": "q9xKxW_6vZlP"
      },
      "outputs": [],
      "source": [
        "import pandas as pd\n",
        "import numpy as np\n",
        "\n",
        "generale = pd.read_excel('Generale.xlsx')\n",
        "strat = pd.read_excel('GEG_STRATIGRAFIE.xlsx')\n",
        "lito = pd.read_excel('GEG_LITOLOGIE.xlsx')"
      ]
    },
    {
      "cell_type": "markdown",
      "source": [
        "eliminate the second litology (it can be used in future to fix where lito is not well definible)"
      ],
      "metadata": {
        "id": "F1ivBTRWxC6P"
      }
    },
    {
      "cell_type": "code",
      "source": [
        "lito = lito[lito.ORDINE != 2]\n",
        "lito = lito[lito.ORDINE != 3]\n",
        "lito = lito[lito.ORDINE != 4]\n",
        "lito = lito[lito.ORDINE != 5]"
      ],
      "metadata": {
        "id": "SvuSNkJQxwWd"
      },
      "execution_count": null,
      "outputs": []
    },
    {
      "cell_type": "markdown",
      "source": [
        "create dictionaries to relate the different database files"
      ],
      "metadata": {
        "id": "itbuzTyBxNgR"
      }
    },
    {
      "cell_type": "code",
      "source": [
        "litoDict = dict(zip(lito.ID_STRAT, lito.ID_TIPO_LITO))"
      ],
      "metadata": {
        "id": "fYSLSE3A22Bx"
      },
      "execution_count": null,
      "outputs": []
    },
    {
      "cell_type": "code",
      "source": [
        "generaleDict = dict(zip(generale.GISID, generale.SIGLA))"
      ],
      "metadata": {
        "id": "_0uhzIWj3TWl"
      },
      "execution_count": null,
      "outputs": []
    },
    {
      "cell_type": "markdown",
      "source": [
        "create a single database"
      ],
      "metadata": {
        "id": "Fqdk-iRqxTjp"
      }
    },
    {
      "cell_type": "code",
      "source": [
        "wellLito_ER = strat\n",
        "GISID = np.array(wellLito_ER.GISID)\n",
        "ID_STRAT =  np.array(wellLito_ER.ID_STRAT)"
      ],
      "metadata": {
        "id": "Xz7vftuv6HRs"
      },
      "execution_count": null,
      "outputs": []
    },
    {
      "cell_type": "code",
      "source": [
        "sigla = list(np.zeros(len(wellLito_ER.index)))\n",
        "tipoLito = list(np.zeros(len(wellLito_ER.index)))\n",
        "for i in range(len(wellLito_ER.index)):\n",
        "  sigla[i] = generaleDict[GISID[i]]\n",
        "  tipoLito[i] = litoDict[ID_STRAT[i]]\n",
        "wellLito_ER['SIGLA'] = sigla\n",
        "wellLito_ER['ID_TIPO_LITO'] = tipoLito"
      ],
      "metadata": {
        "id": "KsyhA71V_aY9"
      },
      "execution_count": null,
      "outputs": []
    },
    {
      "cell_type": "code",
      "source": [
        "wellLito_ER = wellLito_ER.drop(labels=['FLAG_GAS','FLAG_FILTRO','ID_ADDENSAMENTO','ID_CONS_PLAST','ID_QUANT_CC','ID_QUANT_CM','ID_QUANT_RV','ID_QUANT_FS','ID_SPESSORE','ID_FREQUENZA','ID_COLORE_PRI_1','ID_COLORE_PRI_2','ID_TONO_COL_PRI','ID_COLORE_SEC_1','ID_COLORE_SEC_2','ID_TONO_COL_SEC','ID_COLORE_PRI_1_INT','ID_COLORE_PRI_2_INT','ID_TONO_COL_PRI_INT','ID_COLORE_SEC_1_INT','ID_COLORE_SEC_2_INT','ID_TONO_COL_SEC_INT'], axis=1)"
      ],
      "metadata": {
        "id": "wBxwLKhRBqM5"
      },
      "execution_count": null,
      "outputs": []
    },
    {
      "cell_type": "markdown",
      "source": [
        "insert coordinates"
      ],
      "metadata": {
        "id": "kAlfqTCAxao7"
      }
    },
    {
      "cell_type": "code",
      "source": [
        "shape = pd.read_csv('coords_ER.csv')\n",
        "XDict = dict(zip(shape.GISID, shape.Easting))\n",
        "YDict = dict(zip(shape.GISID, shape.Northing))"
      ],
      "metadata": {
        "id": "-nS9vkpnBYiA"
      },
      "execution_count": null,
      "outputs": []
    },
    {
      "cell_type": "code",
      "source": [
        "shape.Easting"
      ],
      "metadata": {
        "colab": {
          "base_uri": "https://localhost:8080/"
        },
        "id": "8tByVS_0hUqy",
        "outputId": "b5cf3f19-1219-4055-c47a-c144a111e664"
      },
      "execution_count": null,
      "outputs": [
        {
          "output_type": "execute_result",
          "data": {
            "text/plain": [
              "0        881093.5\n",
              "1        887598.0\n",
              "2        887398.4\n",
              "3        888092.8\n",
              "4        888153.7\n",
              "           ...   \n",
              "15207    991562.8\n",
              "15208    987864.8\n",
              "15209    993834.6\n",
              "15210    993570.7\n",
              "15211    995686.3\n",
              "Name: Easting, Length: 15212, dtype: float64"
            ]
          },
          "metadata": {},
          "execution_count": 33
        }
      ]
    },
    {
      "cell_type": "code",
      "source": [
        "XDict[wellLito_ER.GISID[0]]"
      ],
      "metadata": {
        "colab": {
          "base_uri": "https://localhost:8080/"
        },
        "id": "qYQGCHKnhH9s",
        "outputId": "ec6efbef-a56c-4f52-e324-0b20a178b3f6"
      },
      "execution_count": null,
      "outputs": [
        {
          "output_type": "execute_result",
          "data": {
            "text/plain": [
              "786960.2"
            ]
          },
          "metadata": {},
          "execution_count": 29
        }
      ]
    },
    {
      "cell_type": "code",
      "source": [
        "wellLito_ER.SIGLA[i]"
      ],
      "metadata": {
        "colab": {
          "base_uri": "https://localhost:8080/",
          "height": 36
        },
        "id": "Pl5zrs6YhFm-",
        "outputId": "55afba7d-732b-404e-ddfc-f6ea342dece7"
      },
      "execution_count": null,
      "outputs": [
        {
          "output_type": "execute_result",
          "data": {
            "application/vnd.google.colaboratory.intrinsic+json": {
              "type": "string"
            },
            "text/plain": [
              "'220120P662'"
            ]
          },
          "metadata": {},
          "execution_count": 34
        }
      ]
    },
    {
      "cell_type": "code",
      "source": [
        "coordsX = np.zeros(len(wellLito_ER.GISID))\n",
        "coordsX[:] = np.NaN\n",
        "coordsy = np.zeros(len(wellLito_ER.GISID))\n",
        "coordsy[:] = np.NaN\n",
        "for i in range(len(wellLito_ER.index)):\n",
        "  if (i<111313)+(i>111329):\n",
        "    coordsX[i] = XDict[wellLito_ER.GISID[i]]\n",
        "    coordsy[i] = YDict[wellLito_ER.GISID[i]]\n",
        "wellLito_ER['Easting'] = coordsX\n",
        "wellLito_ER['Northing'] = coordsy"
      ],
      "metadata": {
        "id": "e0kJgP_Xa2u8"
      },
      "execution_count": null,
      "outputs": []
    },
    {
      "cell_type": "code",
      "source": [
        "#eliminate points w/o coordinates\n",
        "wellLito_ER = wellLito_ER.dropna(subset=['Easting'])"
      ],
      "metadata": {
        "id": "u1KnrKS9rniO"
      },
      "execution_count": null,
      "outputs": []
    },
    {
      "cell_type": "markdown",
      "source": [
        "save dataframe"
      ],
      "metadata": {
        "id": "r5ojErNXxiPX"
      }
    },
    {
      "cell_type": "code",
      "source": [
        "import rasterio\n",
        "src = rasterio.open('DEM_clip.tif')\n",
        "coords = [(x,y) for x, y in zip( wellLito_ER.Easting, wellLito_ER.Northing)]\n",
        "\n",
        "wellLito_ER.index = range(len(wellLito_ER))\n",
        "wellLito_ER['Quota'] = [x[0] for x in src.sample(coords)]"
      ],
      "metadata": {
        "id": "8tK92ijbwRHU"
      },
      "execution_count": null,
      "outputs": []
    },
    {
      "cell_type": "code",
      "source": [
        "#valuto il top e il bottom layer dei dati\n",
        "offsetList = []\n",
        "linSec = []\n",
        "linVerts = []\n",
        "\n",
        "i = 0\n",
        "\n",
        "botLito = np.zeros(wellLito_ER.SIGLA.size)\n",
        "topLito = np.zeros(wellLito_ER.SIGLA.size)\n",
        "\n",
        "for layer in range(len(wellLito_ER.SIGLA)):\n",
        "  x,y,z = wellLito_ER.loc[layer][['Easting','Northing','Quota']]\n",
        "  topLito[layer] = wellLito_ER.Quota[layer]-wellLito_ER.TETTO[layer]\n",
        "  botLito[layer] = wellLito_ER.Quota[layer]-wellLito_ER.BASE[layer]\n",
        "  cellVerts = [[x,y,topLito[layer]],[x,y,botLito[layer]]]\n",
        "  offsetList.append(i*3)\n",
        "  linSec = linSec + [2,2*i,2*i+1]\n",
        "  linVerts = linVerts + cellVerts\n",
        "  i+=1\n",
        "  if topLito[layer] > wellLito_ER.Quota[layer]:\n",
        "    print(layer)\n",
        "\n",
        "offsetArray = np.array(offsetList)\n",
        "linArray = np.array(linSec)\n",
        "cellType = np.ones([i])*3\n",
        "vertArray = np.array(linVerts)\n",
        "\n",
        "wellLito_ER['top_Layer'] = topLito\n",
        "wellLito_ER['bttom_Layer'] =  botLito"
      ],
      "metadata": {
        "id": "7-99_cfPzI9Q"
      },
      "execution_count": null,
      "outputs": []
    },
    {
      "cell_type": "code",
      "source": [
        "litoCodeDict = {'A'\t:\t100,\n",
        "'AR':\t100,\n",
        "'B'\t:\t200,\n",
        "'BA':\t200,\n",
        "'BC':\t201,\n",
        "'BG':\t201,\n",
        "'BI':\t100,\n",
        "'BL':\t201,\n",
        "'BM':\t201,\n",
        "'BS':\t202,\n",
        "'BZ':\t202,\n",
        "'C'\t:\t201,\n",
        "'CG':\t900,\n",
        "'CO':\t201,\n",
        "'G' :\t300,\n",
        "'G1':\t300,\n",
        "'G2':\t300,\n",
        "'G3':\t300,\n",
        "'G4':\t300,\n",
        "'G5':\t300,\n",
        "'GB':\t900,\n",
        "'GC':\t300,\n",
        "'GG':\t300,\n",
        "'GM':\t300,\n",
        "'GP':\t300,\n",
        "'GR':\t300,\n",
        "'GZ':\t900,\n",
        "'L'\t:\t400,\n",
        "'LR':\t400,\n",
        "'M'\t:\t602,\n",
        "'MT':\t602,\n",
        "'MZ':\t900,\n",
        "'O'\t:\t202,\n",
        "'O1': 202,\n",
        "'O2': 202,\n",
        "'O3':\t202,\n",
        "'O4':\t202,\n",
        "'O5':\t202,\n",
        "'P'\t:\t602,\n",
        "'PC':\t900,\n",
        "'PL':\t900,\n",
        "'PO':\t602,\n",
        "'PT':\t602,\n",
        "'S'\t:\t700,\n",
        "'S1':\t700,\n",
        "'S2':\t700,\n",
        "'S3':\t700,\n",
        "'S4':\t700,\n",
        "'S5':\t700,\n",
        "'SR':\t700,\n",
        "'SZ':\t700,\n",
        "'Z'\t:\t900,\n",
        "'ZD':\t900,\n",
        "'ZL': 900,\n",
        "'ZM':\t900,\n",
        "'ZR':\t900,\n",
        "'ZS':\t602,\n",
        "'ZZ':\t900,}"
      ],
      "metadata": {
        "id": "t_fV2bGEDRF2"
      },
      "execution_count": null,
      "outputs": []
    },
    {
      "cell_type": "code",
      "source": [
        "l1 = list(wellLito_ER.ID_TIPO_LITO)\n",
        "for k in range(len(l1)):\n",
        "  l1[k] = litoCodeDict[l1[k]]\n",
        "wellLito_ER['l1'] = l1"
      ],
      "metadata": {
        "id": "bnr4ok9ZLXm1"
      },
      "execution_count": null,
      "outputs": []
    },
    {
      "cell_type": "code",
      "source": [
        "wellLito_ER.to_csv('wellLito_ER.csv')"
      ],
      "metadata": {
        "id": "xNZ_J5OvvVE7"
      },
      "execution_count": null,
      "outputs": []
    },
    {
      "cell_type": "code",
      "source": [
        "import pyvista as pv\n",
        "# creo un file di visualizzazione dei risultati\n",
        "grid = pv.UnstructuredGrid(offsetArray, linArray, cellType, vertArray)\n",
        "grid.cell_arrays[\"values\"] = wellLito_ER.l1.values\n",
        "grid.save('wellLito_ER.vtu',binary=False)"
      ],
      "metadata": {
        "colab": {
          "base_uri": "https://localhost:8080/"
        },
        "id": "2bX5R4Pj-NOQ",
        "outputId": "a720371c-ec71-4fda-90e4-b804a0cc7965"
      },
      "execution_count": null,
      "outputs": [
        {
          "output_type": "stream",
          "name": "stderr",
          "text": [
            "/usr/local/lib/python3.7/dist-packages/ipykernel_launcher.py:3: UserWarning: VTK 9 no longer accepts an offset array\n",
            "  This is separate from the ipykernel package so we can avoid doing imports until\n",
            "/usr/local/lib/python3.7/dist-packages/pyvista/core/dataset.py:1544: PyvistaDeprecationWarning: Use of `cell_arrays` is deprecated. Use `cell_data` instead.\n",
            "  PyvistaDeprecationWarning\n"
          ]
        }
      ]
    },
    {
      "cell_type": "code",
      "source": [
        ""
      ],
      "metadata": {
        "id": "Q3o2EGgUL1Kv"
      },
      "execution_count": null,
      "outputs": []
    }
  ],
  "metadata": {
    "colab": {
      "name": "Lithology_ER.ipynb",
      "provenance": [],
      "authorship_tag": "ABX9TyPwPwW4oYJbrd+5pZAQ+I+r",
      "include_colab_link": true
    },
    "kernelspec": {
      "display_name": "Python 3",
      "name": "python3"
    },
    "language_info": {
      "name": "python"
    }
  },
  "nbformat": 4,
  "nbformat_minor": 0
}